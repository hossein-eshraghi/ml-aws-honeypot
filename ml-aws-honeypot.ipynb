{
 "cells": [
  {
   "cell_type": "markdown",
   "metadata": {},
   "source": [
    "# ML - AWS Honeypot Attack"
   ]
  },
  {
   "cell_type": "markdown",
   "metadata": {},
   "source": [
    "1.Which protocols are most used?<br>\n",
    "2.Most servers that have been attacked?<br>\n",
    "3.What has been the source of these attacks?<br>\n",
    "4.When did these attacks happen?"
   ]
  },
  {
   "cell_type": "markdown",
   "metadata": {},
   "source": [
    "**numpy:** for scientific calculations<br>\n",
    "**pandas:** bility to create data structures and indexing on rows and columns<br>\n",
    "**pandas.Series:** It is used to store time series and can be indexing for rows<br>\n",
    "**pandas.DataFrame:** To store data in two-dimensional format<br>\n",
    "**seaborn:** To draw two-dimensional diagrams"
   ]
  },
  {
   "cell_type": "code",
   "execution_count": 394,
   "metadata": {},
   "outputs": [],
   "source": [
    "import numpy as np\n",
    "import pandas as pd \n",
    "from pandas import Series, DataFrame\n",
    "import matplotlib.pyplot as plt \n",
    "import seaborn as sb\n",
    "%matplotlib inline"
   ]
  },
  {
   "cell_type": "markdown",
   "metadata": {},
   "source": [
    "### - Import the CSV file and take a look at some of the data we have available to us"
   ]
  },
  {
   "cell_type": "code",
   "execution_count": 395,
   "metadata": {},
   "outputs": [
    {
     "name": "stdout",
     "output_type": "stream",
     "text": [
      "<class 'pandas.core.frame.DataFrame'>\n",
      "RangeIndex: 451581 entries, 0 to 451580\n",
      "Data columns (total 16 columns):\n",
      " #   Column       Non-Null Count   Dtype  \n",
      "---  ------       --------------   -----  \n",
      " 0   datetime     451581 non-null  object \n",
      " 1   host         451581 non-null  object \n",
      " 2   src          451581 non-null  int64  \n",
      " 3   proto        451581 non-null  object \n",
      " 4   type         44811 non-null   float64\n",
      " 5   spt          406770 non-null  float64\n",
      " 6   dpt          406770 non-null  float64\n",
      " 7   srcstr       451581 non-null  object \n",
      " 8   cc           447985 non-null  object \n",
      " 9   country      447947 non-null  object \n",
      " 10  locale       342112 non-null  object \n",
      " 11  localeabbr   331705 non-null  object \n",
      " 12  postalcode   86478 non-null   object \n",
      " 13  latitude     448112 non-null  float64\n",
      " 14  longitude    448153 non-null  float64\n",
      " 15  Unnamed: 15  83 non-null      float64\n",
      "dtypes: float64(6), int64(1), object(9)\n",
      "memory usage: 55.1+ MB\n"
     ]
    }
   ],
   "source": [
    "aws_df = pd.read_csv('./dataset/aws-honeypot.csv')\n",
    "aws_df.info()\n",
    "aws_df1 = aws_df.head(10)\n",
    "aws_df2 = aws_df1.drop(['Unnamed: 15'],axis=1)"
   ]
  },
  {
   "cell_type": "code",
   "execution_count": 396,
   "metadata": {},
   "outputs": [
    {
     "data": {
      "text/html": [
       "<div>\n",
       "<style scoped>\n",
       "    .dataframe tbody tr th:only-of-type {\n",
       "        vertical-align: middle;\n",
       "    }\n",
       "\n",
       "    .dataframe tbody tr th {\n",
       "        vertical-align: top;\n",
       "    }\n",
       "\n",
       "    .dataframe thead th {\n",
       "        text-align: right;\n",
       "    }\n",
       "</style>\n",
       "<table border=\"1\" class=\"dataframe\">\n",
       "  <thead>\n",
       "    <tr style=\"text-align: right;\">\n",
       "      <th></th>\n",
       "      <th>host</th>\n",
       "      <th>country</th>\n",
       "      <th>locale</th>\n",
       "      <th>localeabbr</th>\n",
       "      <th>postalcode</th>\n",
       "      <th>latitude</th>\n",
       "      <th>longitude</th>\n",
       "      <th>Unnamed: 15</th>\n",
       "    </tr>\n",
       "  </thead>\n",
       "  <tbody>\n",
       "    <tr>\n",
       "      <th>0</th>\n",
       "      <td>groucho-oregon</td>\n",
       "      <td>China</td>\n",
       "      <td>Jiangxi Sheng</td>\n",
       "      <td>36</td>\n",
       "      <td>NaN</td>\n",
       "      <td>28.5500</td>\n",
       "      <td>115.9333</td>\n",
       "      <td>NaN</td>\n",
       "    </tr>\n",
       "    <tr>\n",
       "      <th>1</th>\n",
       "      <td>groucho-oregon</td>\n",
       "      <td>Germany</td>\n",
       "      <td>NaN</td>\n",
       "      <td>NaN</td>\n",
       "      <td>NaN</td>\n",
       "      <td>51.0000</td>\n",
       "      <td>9.0000</td>\n",
       "      <td>NaN</td>\n",
       "    </tr>\n",
       "    <tr>\n",
       "      <th>2</th>\n",
       "      <td>groucho-oregon</td>\n",
       "      <td>Taiwan</td>\n",
       "      <td>Taipei</td>\n",
       "      <td>NaN</td>\n",
       "      <td>NaN</td>\n",
       "      <td>25.0392</td>\n",
       "      <td>121.5250</td>\n",
       "      <td>NaN</td>\n",
       "    </tr>\n",
       "    <tr>\n",
       "      <th>3</th>\n",
       "      <td>groucho-us-east</td>\n",
       "      <td>United States</td>\n",
       "      <td>Oregon</td>\n",
       "      <td>OR</td>\n",
       "      <td>97124</td>\n",
       "      <td>45.5848</td>\n",
       "      <td>-122.9117</td>\n",
       "      <td>NaN</td>\n",
       "    </tr>\n",
       "    <tr>\n",
       "      <th>4</th>\n",
       "      <td>groucho-singapore</td>\n",
       "      <td>France</td>\n",
       "      <td>NaN</td>\n",
       "      <td>NaN</td>\n",
       "      <td>NaN</td>\n",
       "      <td>48.8600</td>\n",
       "      <td>2.3500</td>\n",
       "      <td>NaN</td>\n",
       "    </tr>\n",
       "    <tr>\n",
       "      <th>...</th>\n",
       "      <td>...</td>\n",
       "      <td>...</td>\n",
       "      <td>...</td>\n",
       "      <td>...</td>\n",
       "      <td>...</td>\n",
       "      <td>...</td>\n",
       "      <td>...</td>\n",
       "      <td>...</td>\n",
       "    </tr>\n",
       "    <tr>\n",
       "      <th>451576</th>\n",
       "      <td>groucho-oregon</td>\n",
       "      <td>Japan</td>\n",
       "      <td>Tokyo-to</td>\n",
       "      <td>13</td>\n",
       "      <td>NaN</td>\n",
       "      <td>35.6850</td>\n",
       "      <td>139.7514</td>\n",
       "      <td>NaN</td>\n",
       "    </tr>\n",
       "    <tr>\n",
       "      <th>451577</th>\n",
       "      <td>groucho-eu</td>\n",
       "      <td>China</td>\n",
       "      <td>Anhui Sheng</td>\n",
       "      <td>34</td>\n",
       "      <td>NaN</td>\n",
       "      <td>31.8639</td>\n",
       "      <td>117.2808</td>\n",
       "      <td>NaN</td>\n",
       "    </tr>\n",
       "    <tr>\n",
       "      <th>451578</th>\n",
       "      <td>groucho-oregon</td>\n",
       "      <td>United States</td>\n",
       "      <td>California</td>\n",
       "      <td>CA</td>\n",
       "      <td>90017</td>\n",
       "      <td>34.0530</td>\n",
       "      <td>-118.2642</td>\n",
       "      <td>NaN</td>\n",
       "    </tr>\n",
       "    <tr>\n",
       "      <th>451579</th>\n",
       "      <td>groucho-tokyo</td>\n",
       "      <td>Taiwan</td>\n",
       "      <td>Taipei</td>\n",
       "      <td>NaN</td>\n",
       "      <td>NaN</td>\n",
       "      <td>25.0392</td>\n",
       "      <td>121.5250</td>\n",
       "      <td>NaN</td>\n",
       "    </tr>\n",
       "    <tr>\n",
       "      <th>451580</th>\n",
       "      <td>groucho-tokyo</td>\n",
       "      <td>Taiwan</td>\n",
       "      <td>Taipei</td>\n",
       "      <td>NaN</td>\n",
       "      <td>NaN</td>\n",
       "      <td>25.0392</td>\n",
       "      <td>121.5250</td>\n",
       "      <td>NaN</td>\n",
       "    </tr>\n",
       "  </tbody>\n",
       "</table>\n",
       "<p>451581 rows × 8 columns</p>\n",
       "</div>"
      ],
      "text/plain": [
       "                     host        country         locale localeabbr postalcode  \\\n",
       "0          groucho-oregon          China  Jiangxi Sheng         36        NaN   \n",
       "1          groucho-oregon        Germany            NaN        NaN        NaN   \n",
       "2          groucho-oregon         Taiwan         Taipei        NaN        NaN   \n",
       "3         groucho-us-east  United States         Oregon         OR      97124   \n",
       "4       groucho-singapore         France            NaN        NaN        NaN   \n",
       "...                   ...            ...            ...        ...        ...   \n",
       "451576     groucho-oregon          Japan       Tokyo-to         13        NaN   \n",
       "451577         groucho-eu          China    Anhui Sheng         34        NaN   \n",
       "451578     groucho-oregon  United States     California         CA      90017   \n",
       "451579      groucho-tokyo         Taiwan         Taipei        NaN        NaN   \n",
       "451580      groucho-tokyo         Taiwan         Taipei        NaN        NaN   \n",
       "\n",
       "        latitude  longitude  Unnamed: 15  \n",
       "0        28.5500   115.9333          NaN  \n",
       "1        51.0000     9.0000          NaN  \n",
       "2        25.0392   121.5250          NaN  \n",
       "3        45.5848  -122.9117          NaN  \n",
       "4        48.8600     2.3500          NaN  \n",
       "...          ...        ...          ...  \n",
       "451576   35.6850   139.7514          NaN  \n",
       "451577   31.8639   117.2808          NaN  \n",
       "451578   34.0530  -118.2642          NaN  \n",
       "451579   25.0392   121.5250          NaN  \n",
       "451580   25.0392   121.5250          NaN  \n",
       "\n",
       "[451581 rows x 8 columns]"
      ]
     },
     "execution_count": 396,
     "metadata": {},
     "output_type": "execute_result"
    }
   ],
   "source": [
    "data = aws_df.drop(['datetime','src','proto','type','spt','dpt','srcstr','cc'],axis=1)\n",
    "data"
   ]
  },
  {
   "cell_type": "code",
   "execution_count": 397,
   "metadata": {},
   "outputs": [
    {
     "data": {
      "text/html": [
       "<div>\n",
       "<style scoped>\n",
       "    .dataframe tbody tr th:only-of-type {\n",
       "        vertical-align: middle;\n",
       "    }\n",
       "\n",
       "    .dataframe tbody tr th {\n",
       "        vertical-align: top;\n",
       "    }\n",
       "\n",
       "    .dataframe thead th {\n",
       "        text-align: right;\n",
       "    }\n",
       "</style>\n",
       "<table border=\"1\" class=\"dataframe\">\n",
       "  <thead>\n",
       "    <tr style=\"text-align: right;\">\n",
       "      <th></th>\n",
       "      <th>host</th>\n",
       "    </tr>\n",
       "  </thead>\n",
       "  <tbody>\n",
       "    <tr>\n",
       "      <th>count</th>\n",
       "      <td>451581</td>\n",
       "    </tr>\n",
       "    <tr>\n",
       "      <th>unique</th>\n",
       "      <td>9</td>\n",
       "    </tr>\n",
       "    <tr>\n",
       "      <th>top</th>\n",
       "      <td>groucho-tokyo</td>\n",
       "    </tr>\n",
       "    <tr>\n",
       "      <th>freq</th>\n",
       "      <td>126189</td>\n",
       "    </tr>\n",
       "  </tbody>\n",
       "</table>\n",
       "</div>"
      ],
      "text/plain": [
       "                 host\n",
       "count          451581\n",
       "unique              9\n",
       "top     groucho-tokyo\n",
       "freq           126189"
      ]
     },
     "execution_count": 397,
     "metadata": {},
     "output_type": "execute_result"
    }
   ],
   "source": [
    "data_droped_col = data.drop(['country','locale','localeabbr','postalcode','latitude','longitude','Unnamed: 15'],axis=1)\n",
    "data_droped_col.describe()"
   ]
  },
  {
   "cell_type": "markdown",
   "metadata": {},
   "source": [
    "## Visualize with catplot"
   ]
  },
  {
   "cell_type": "markdown",
   "metadata": {},
   "source": [
    "- use 'seaborn' for **visualize(catplot)** the pearson correlation coefficent"
   ]
  },
  {
   "cell_type": "code",
   "execution_count": 398,
   "metadata": {},
   "outputs": [
    {
     "data": {
      "image/png": "[encoded data removed]",
      "text/plain": [
       "<Figure size 360x360 with 1 Axes>"
      ]
     },
     "metadata": {
      "needs_background": "light"
     },
     "output_type": "display_data"
    }
   ],
   "source": [
    "sb.catplot(x='proto',data=aws_df,kind='count')\n",
    "plt.show()"
   ]
  },
  {
   "cell_type": "code",
   "execution_count": 399,
   "metadata": {},
   "outputs": [
    {
     "data": {
      "text/plain": [
       "Index(['TCP', 'UDP', 'ICMP'], dtype='object')"
      ]
     },
     "execution_count": 399,
     "metadata": {},
     "output_type": "execute_result"
    }
   ],
   "source": [
    "count = aws_df.proto.value_counts()\n",
    "category = count.index\n",
    "category"
   ]
  },
  {
   "cell_type": "markdown",
   "metadata": {},
   "source": [
    "## Visualize with BarPlot"
   ]
  },
  {
   "cell_type": "markdown",
   "metadata": {},
   "source": [
    "- use 'BarPlot' for **visualize(order by proto)**"
   ]
  },
  {
   "cell_type": "code",
   "execution_count": 400,
   "metadata": {},
   "outputs": [
    {
     "data": {
      "image/png": "[encoded data removed]",
      "text/plain": [
       "<Figure size 576x288 with 1 Axes>"
      ]
     },
     "metadata": {
      "needs_background": "light"
     },
     "output_type": "display_data"
    }
   ],
   "source": [
    "plt.figure(figsize=(8, 4))\n",
    "plt.bar(category, count)\n",
    "plt.xlabel('Protocol')\n",
    "plt.ylabel('Counts')\n",
    "plt.xticks(['TCP', 'UDP', 'ICMP'])\n",
    "plt.yticks([50000,100000,150000,200000,250000,300000])\n",
    "plt.show()"
   ]
  },
  {
   "cell_type": "code",
   "execution_count": 401,
   "metadata": {},
   "outputs": [
    {
     "data": {
      "text/plain": [
       "groucho-tokyo        126189\n",
       "groucho-oregon        94076\n",
       "groucho-singapore     78151\n",
       "groucho-us-east       31779\n",
       "groucho-norcal        24566\n",
       "groucho-sydney        24456\n",
       "groucho-sa            24316\n",
       "zeppo-norcal          24094\n",
       "groucho-eu            23954\n",
       "Name: host, dtype: int64"
      ]
     },
     "execution_count": 401,
     "metadata": {},
     "output_type": "execute_result"
    }
   ],
   "source": [
    "host_list = aws_df['host'].value_counts()\n",
    "host_list"
   ]
  },
  {
   "cell_type": "markdown",
   "metadata": {},
   "source": [
    "- **Oregon** (on the West Coast of the United States)\n",
    "- **US-East** (Eastern United States) = Maine, New Hampshire, Massachusetts, Rhode Island, Connecticut, New York, New Jersey, Delaware, Maryland, Virginia, North Carolina, South Carolina, Georgia, and Florida. \n",
    "- **Norcal** (Northern California) = San Francisco, San Jose, Oakland, Fresno, Sierra Nevada\n",
    "- **Sydney** (City of Florida is the Southern most Contiguous State in the United States)\n",
    "- **SA** (South America)\n",
    "- **EU** (European Union)"
   ]
  },
  {
   "cell_type": "code",
   "execution_count": 402,
   "metadata": {},
   "outputs": [
    {
     "data": {
      "image/png": "[encoded data removed]",
      "text/plain": [
       "<Figure size 936x288 with 1 Axes>"
      ]
     },
     "metadata": {
      "needs_background": "light"
     },
     "output_type": "display_data"
    }
   ],
   "source": [
    "# Bar Plot\n",
    "count = aws_df.host.value_counts()\n",
    "host = count.index\n",
    "\n",
    "plt.figure(figsize=(13, 4))\n",
    "plt.bar(host, count, color='lightseagreen')\n",
    "\n",
    "plt.xlabel('Host', fontsize=16)\n",
    "plt.ylabel('Counts', fontsize=16)\n",
    "\n",
    "plt.xticks(['groucho-tokyo', 'groucho-oregon', 'groucho-singapore', 'groucho-us-east','groucho-norcal','groucho-sydney','groucho-sa','zeppo-norcal','groucho-eu'],\n",
    "           ['tokyo','oregon','singapore','us-east','norcal','sa','sydney','z-norcal','eu'], fontsize=12)\n",
    "\n",
    "plt.yticks([50000,100000,150000], fontsize=12)\n",
    "\n",
    "plt.show()"
   ]
  },
  {
   "cell_type": "code",
   "execution_count": 403,
   "metadata": {},
   "outputs": [
    {
     "data": {
      "text/plain": [
       "CN    191394\n",
       "US     90005\n",
       "JP     17204\n",
       "IR     13042\n",
       "TW     12150\n",
       "       ...  \n",
       "AD         2\n",
       "ET         2\n",
       "BM         1\n",
       "CV         1\n",
       "BB         1\n",
       "Name: cc, Length: 176, dtype: int64"
      ]
     },
     "execution_count": 403,
     "metadata": {},
     "output_type": "execute_result"
    }
   ],
   "source": [
    "aws_df['cc'].value_counts()"
   ]
  },
  {
   "cell_type": "code",
   "execution_count": 404,
   "metadata": {},
   "outputs": [
    {
     "data": {
      "text/html": [
       "<div>\n",
       "<style scoped>\n",
       "    .dataframe tbody tr th:only-of-type {\n",
       "        vertical-align: middle;\n",
       "    }\n",
       "\n",
       "    .dataframe tbody tr th {\n",
       "        vertical-align: top;\n",
       "    }\n",
       "\n",
       "    .dataframe thead th {\n",
       "        text-align: right;\n",
       "    }\n",
       "</style>\n",
       "<table border=\"1\" class=\"dataframe\">\n",
       "  <thead>\n",
       "    <tr style=\"text-align: right;\">\n",
       "      <th></th>\n",
       "      <th>src</th>\n",
       "      <th>type</th>\n",
       "      <th>spt</th>\n",
       "      <th>dpt</th>\n",
       "      <th>latitude</th>\n",
       "      <th>longitude</th>\n",
       "      <th>Unnamed: 15</th>\n",
       "    </tr>\n",
       "  </thead>\n",
       "  <tbody>\n",
       "    <tr>\n",
       "      <th>count</th>\n",
       "      <td>4.515810e+05</td>\n",
       "      <td>44811.000000</td>\n",
       "      <td>406770.000000</td>\n",
       "      <td>406770.000000</td>\n",
       "      <td>448112.000000</td>\n",
       "      <td>448153.000000</td>\n",
       "      <td>83.000000</td>\n",
       "    </tr>\n",
       "    <tr>\n",
       "      <th>mean</th>\n",
       "      <td>2.154902e+09</td>\n",
       "      <td>7.514896</td>\n",
       "      <td>18685.461494</td>\n",
       "      <td>6684.258212</td>\n",
       "      <td>36.214115</td>\n",
       "      <td>48.751751</td>\n",
       "      <td>-77.027536</td>\n",
       "    </tr>\n",
       "    <tr>\n",
       "      <th>std</th>\n",
       "      <td>1.081011e+09</td>\n",
       "      <td>1.799866</td>\n",
       "      <td>19290.141746</td>\n",
       "      <td>14032.839799</td>\n",
       "      <td>194.251441</td>\n",
       "      <td>91.774739</td>\n",
       "      <td>0.011942</td>\n",
       "    </tr>\n",
       "    <tr>\n",
       "      <th>min</th>\n",
       "      <td>1.677725e+07</td>\n",
       "      <td>0.000000</td>\n",
       "      <td>0.000000</td>\n",
       "      <td>0.000000</td>\n",
       "      <td>-43.533300</td>\n",
       "      <td>-175.000000</td>\n",
       "      <td>-77.059600</td>\n",
       "    </tr>\n",
       "    <tr>\n",
       "      <th>25%</th>\n",
       "      <td>1.169129e+09</td>\n",
       "      <td>8.000000</td>\n",
       "      <td>6000.000000</td>\n",
       "      <td>445.000000</td>\n",
       "      <td>30.666700</td>\n",
       "      <td>-4.000000</td>\n",
       "      <td>-77.036400</td>\n",
       "    </tr>\n",
       "    <tr>\n",
       "      <th>50%</th>\n",
       "      <td>2.031191e+09</td>\n",
       "      <td>8.000000</td>\n",
       "      <td>6000.000000</td>\n",
       "      <td>1433.000000</td>\n",
       "      <td>35.685000</td>\n",
       "      <td>106.000000</td>\n",
       "      <td>-77.036400</td>\n",
       "    </tr>\n",
       "    <tr>\n",
       "      <th>75%</th>\n",
       "      <td>3.164988e+09</td>\n",
       "      <td>8.000000</td>\n",
       "      <td>33461.000000</td>\n",
       "      <td>3389.000000</td>\n",
       "      <td>40.455500</td>\n",
       "      <td>118.777800</td>\n",
       "      <td>-77.014600</td>\n",
       "    </tr>\n",
       "    <tr>\n",
       "      <th>max</th>\n",
       "      <td>3.758094e+09</td>\n",
       "      <td>13.000000</td>\n",
       "      <td>65535.000000</td>\n",
       "      <td>65500.000000</td>\n",
       "      <td>20076.000000</td>\n",
       "      <td>178.416700</td>\n",
       "      <td>-77.014600</td>\n",
       "    </tr>\n",
       "  </tbody>\n",
       "</table>\n",
       "</div>"
      ],
      "text/plain": [
       "                src          type            spt            dpt  \\\n",
       "count  4.515810e+05  44811.000000  406770.000000  406770.000000   \n",
       "mean   2.154902e+09      7.514896   18685.461494    6684.258212   \n",
       "std    1.081011e+09      1.799866   19290.141746   14032.839799   \n",
       "min    1.677725e+07      0.000000       0.000000       0.000000   \n",
       "25%    1.169129e+09      8.000000    6000.000000     445.000000   \n",
       "50%    2.031191e+09      8.000000    6000.000000    1433.000000   \n",
       "75%    3.164988e+09      8.000000   33461.000000    3389.000000   \n",
       "max    3.758094e+09     13.000000   65535.000000   65500.000000   \n",
       "\n",
       "            latitude      longitude  Unnamed: 15  \n",
       "count  448112.000000  448153.000000    83.000000  \n",
       "mean       36.214115      48.751751   -77.027536  \n",
       "std       194.251441      91.774739     0.011942  \n",
       "min       -43.533300    -175.000000   -77.059600  \n",
       "25%        30.666700      -4.000000   -77.036400  \n",
       "50%        35.685000     106.000000   -77.036400  \n",
       "75%        40.455500     118.777800   -77.014600  \n",
       "max     20076.000000     178.416700   -77.014600  "
      ]
     },
     "execution_count": 404,
     "metadata": {},
     "output_type": "execute_result"
    }
   ],
   "source": [
    "aws_df.describe()"
   ]
  },
  {
   "cell_type": "code",
   "execution_count": 405,
   "metadata": {},
   "outputs": [],
   "source": [
    "china = aws_df[aws_df['cc']=='CN']"
   ]
  },
  {
   "cell_type": "code",
   "execution_count": 406,
   "metadata": {},
   "outputs": [
    {
     "data": {
      "text/html": [
       "<div>\n",
       "<style scoped>\n",
       "    .dataframe tbody tr th:only-of-type {\n",
       "        vertical-align: middle;\n",
       "    }\n",
       "\n",
       "    .dataframe tbody tr th {\n",
       "        vertical-align: top;\n",
       "    }\n",
       "\n",
       "    .dataframe thead th {\n",
       "        text-align: right;\n",
       "    }\n",
       "</style>\n",
       "<table border=\"1\" class=\"dataframe\">\n",
       "  <thead>\n",
       "    <tr style=\"text-align: right;\">\n",
       "      <th></th>\n",
       "      <th>datetime</th>\n",
       "      <th>host</th>\n",
       "      <th>src</th>\n",
       "      <th>proto</th>\n",
       "      <th>spt</th>\n",
       "      <th>dpt</th>\n",
       "      <th>srcstr</th>\n",
       "      <th>country</th>\n",
       "      <th>locale</th>\n",
       "      <th>latitude</th>\n",
       "      <th>longitude</th>\n",
       "    </tr>\n",
       "  </thead>\n",
       "  <tbody>\n",
       "    <tr>\n",
       "      <th>431957</th>\n",
       "      <td>8/31/13 9:58</td>\n",
       "      <td>groucho-oregon</td>\n",
       "      <td>3736738315</td>\n",
       "      <td>TCP</td>\n",
       "      <td>6000.0</td>\n",
       "      <td>1433.0</td>\n",
       "      <td>222.186.26.11</td>\n",
       "      <td>China</td>\n",
       "      <td>Jiangsu Sheng</td>\n",
       "      <td>32.0617</td>\n",
       "      <td>118.7778</td>\n",
       "    </tr>\n",
       "    <tr>\n",
       "      <th>431959</th>\n",
       "      <td>8/31/13 9:57</td>\n",
       "      <td>groucho-tokyo</td>\n",
       "      <td>1992468994</td>\n",
       "      <td>TCP</td>\n",
       "      <td>6000.0</td>\n",
       "      <td>3389.0</td>\n",
       "      <td>118.194.170.2</td>\n",
       "      <td>China</td>\n",
       "      <td>Beijing Shi</td>\n",
       "      <td>39.9289</td>\n",
       "      <td>116.3883</td>\n",
       "    </tr>\n",
       "    <tr>\n",
       "      <th>431948</th>\n",
       "      <td>8/31/13 9:55</td>\n",
       "      <td>groucho-oregon</td>\n",
       "      <td>1962909781</td>\n",
       "      <td>TCP</td>\n",
       "      <td>6000.0</td>\n",
       "      <td>1433.0</td>\n",
       "      <td>116.255.160.85</td>\n",
       "      <td>China</td>\n",
       "      <td>Zhejiang Sheng</td>\n",
       "      <td>27.8456</td>\n",
       "      <td>120.4928</td>\n",
       "    </tr>\n",
       "    <tr>\n",
       "      <th>431947</th>\n",
       "      <td>8/31/13 9:54</td>\n",
       "      <td>groucho-oregon</td>\n",
       "      <td>3659281591</td>\n",
       "      <td>TCP</td>\n",
       "      <td>24628.0</td>\n",
       "      <td>1433.0</td>\n",
       "      <td>218.28.52.183</td>\n",
       "      <td>China</td>\n",
       "      <td>Henan Sheng</td>\n",
       "      <td>34.6836</td>\n",
       "      <td>113.5325</td>\n",
       "    </tr>\n",
       "    <tr>\n",
       "      <th>431968</th>\n",
       "      <td>8/31/13 9:51</td>\n",
       "      <td>groucho-singapore</td>\n",
       "      <td>993473096</td>\n",
       "      <td>TCP</td>\n",
       "      <td>6000.0</td>\n",
       "      <td>1174.0</td>\n",
       "      <td>59.55.50.72</td>\n",
       "      <td>China</td>\n",
       "      <td>Jiangxi Sheng</td>\n",
       "      <td>28.5500</td>\n",
       "      <td>115.9333</td>\n",
       "    </tr>\n",
       "    <tr>\n",
       "      <th>...</th>\n",
       "      <td>...</td>\n",
       "      <td>...</td>\n",
       "      <td>...</td>\n",
       "      <td>...</td>\n",
       "      <td>...</td>\n",
       "      <td>...</td>\n",
       "      <td>...</td>\n",
       "      <td>...</td>\n",
       "      <td>...</td>\n",
       "      <td>...</td>\n",
       "      <td>...</td>\n",
       "    </tr>\n",
       "    <tr>\n",
       "      <th>9</th>\n",
       "      <td>2003-03-13 22:14</td>\n",
       "      <td>groucho-singapore</td>\n",
       "      <td>1007884304</td>\n",
       "      <td>TCP</td>\n",
       "      <td>6000.0</td>\n",
       "      <td>1433.0</td>\n",
       "      <td>60.19.24.16</td>\n",
       "      <td>China</td>\n",
       "      <td>Liaoning</td>\n",
       "      <td>41.7922</td>\n",
       "      <td>123.4328</td>\n",
       "    </tr>\n",
       "    <tr>\n",
       "      <th>8</th>\n",
       "      <td>2003-03-13 22:12</td>\n",
       "      <td>groucho-oregon</td>\n",
       "      <td>3683919430</td>\n",
       "      <td>TCP</td>\n",
       "      <td>6000.0</td>\n",
       "      <td>1433.0</td>\n",
       "      <td>219.148.38.70</td>\n",
       "      <td>China</td>\n",
       "      <td>Hebei</td>\n",
       "      <td>39.8897</td>\n",
       "      <td>115.2750</td>\n",
       "    </tr>\n",
       "    <tr>\n",
       "      <th>7</th>\n",
       "      <td>2003-03-13 22:07</td>\n",
       "      <td>groucho-singapore</td>\n",
       "      <td>3738622573</td>\n",
       "      <td>TCP</td>\n",
       "      <td>6000.0</td>\n",
       "      <td>3306.0</td>\n",
       "      <td>222.214.218.109</td>\n",
       "      <td>China</td>\n",
       "      <td>Sichuan Sheng</td>\n",
       "      <td>30.6667</td>\n",
       "      <td>104.0667</td>\n",
       "    </tr>\n",
       "    <tr>\n",
       "      <th>6</th>\n",
       "      <td>2003-03-13 21:59</td>\n",
       "      <td>groucho-oregon</td>\n",
       "      <td>3730416887</td>\n",
       "      <td>TCP</td>\n",
       "      <td>6000.0</td>\n",
       "      <td>1433.0</td>\n",
       "      <td>222.89.164.247</td>\n",
       "      <td>China</td>\n",
       "      <td>Henan Sheng</td>\n",
       "      <td>34.6836</td>\n",
       "      <td>113.5325</td>\n",
       "    </tr>\n",
       "    <tr>\n",
       "      <th>0</th>\n",
       "      <td>2003-03-13 21:53</td>\n",
       "      <td>groucho-oregon</td>\n",
       "      <td>1032051418</td>\n",
       "      <td>TCP</td>\n",
       "      <td>6000.0</td>\n",
       "      <td>1433.0</td>\n",
       "      <td>61.131.218.218</td>\n",
       "      <td>China</td>\n",
       "      <td>Jiangxi Sheng</td>\n",
       "      <td>28.5500</td>\n",
       "      <td>115.9333</td>\n",
       "    </tr>\n",
       "  </tbody>\n",
       "</table>\n",
       "<p>191394 rows × 11 columns</p>\n",
       "</div>"
      ],
      "text/plain": [
       "                datetime               host         src proto      spt  \\\n",
       "431957      8/31/13 9:58     groucho-oregon  3736738315   TCP   6000.0   \n",
       "431959      8/31/13 9:57      groucho-tokyo  1992468994   TCP   6000.0   \n",
       "431948      8/31/13 9:55     groucho-oregon  1962909781   TCP   6000.0   \n",
       "431947      8/31/13 9:54     groucho-oregon  3659281591   TCP  24628.0   \n",
       "431968      8/31/13 9:51  groucho-singapore   993473096   TCP   6000.0   \n",
       "...                  ...                ...         ...   ...      ...   \n",
       "9       2003-03-13 22:14  groucho-singapore  1007884304   TCP   6000.0   \n",
       "8       2003-03-13 22:12     groucho-oregon  3683919430   TCP   6000.0   \n",
       "7       2003-03-13 22:07  groucho-singapore  3738622573   TCP   6000.0   \n",
       "6       2003-03-13 21:59     groucho-oregon  3730416887   TCP   6000.0   \n",
       "0       2003-03-13 21:53     groucho-oregon  1032051418   TCP   6000.0   \n",
       "\n",
       "           dpt           srcstr country          locale  latitude  longitude  \n",
       "431957  1433.0    222.186.26.11   China   Jiangsu Sheng   32.0617   118.7778  \n",
       "431959  3389.0    118.194.170.2   China     Beijing Shi   39.9289   116.3883  \n",
       "431948  1433.0   116.255.160.85   China  Zhejiang Sheng   27.8456   120.4928  \n",
       "431947  1433.0    218.28.52.183   China     Henan Sheng   34.6836   113.5325  \n",
       "431968  1174.0      59.55.50.72   China   Jiangxi Sheng   28.5500   115.9333  \n",
       "...        ...              ...     ...             ...       ...        ...  \n",
       "9       1433.0      60.19.24.16   China        Liaoning   41.7922   123.4328  \n",
       "8       1433.0    219.148.38.70   China           Hebei   39.8897   115.2750  \n",
       "7       3306.0  222.214.218.109   China   Sichuan Sheng   30.6667   104.0667  \n",
       "6       1433.0   222.89.164.247   China     Henan Sheng   34.6836   113.5325  \n",
       "0       1433.0   61.131.218.218   China   Jiangxi Sheng   28.5500   115.9333  \n",
       "\n",
       "[191394 rows x 11 columns]"
      ]
     },
     "execution_count": 406,
     "metadata": {},
     "output_type": "execute_result"
    }
   ],
   "source": [
    "china_new = china.drop(['type','cc','postalcode','localeabbr','Unnamed: 15'],axis=1)\n",
    "china_new.sort_values(by='datetime',ascending=False)"
   ]
  },
  {
   "cell_type": "markdown",
   "metadata": {},
   "source": [
    "\n",
    "### City of China\n",
    "\n",
    "```Jiangxi Sheng\n",
    "Henan Sheng\n",
    "Sichuan Sheng\n",
    "Hebei\n",
    "Liaoning\n",
    "Jiangxi Sheng\n",
    "Shandong Sheng\n",
    "Anhui Sheng\n",
    ",...```"
   ]
  },
  {
   "cell_type": "code",
   "execution_count": 407,
   "metadata": {},
   "outputs": [
    {
     "name": "stdout",
     "output_type": "stream",
     "text": [
      "            datetime               host         src proto  type      spt  \\\n",
      "0   2003-03-13 21:53     groucho-oregon  1032051418   TCP   NaN   6000.0   \n",
      "6   2003-03-13 21:59     groucho-oregon  3730416887   TCP   NaN   6000.0   \n",
      "7   2003-03-13 22:07  groucho-singapore  3738622573   TCP   NaN   6000.0   \n",
      "8   2003-03-13 22:12     groucho-oregon  3683919430   TCP   NaN   6000.0   \n",
      "9   2003-03-13 22:14  groucho-singapore  1007884304   TCP   NaN   6000.0   \n",
      "11  2003-03-13 22:20     groucho-oregon  1965603898   TCP   NaN   9907.0   \n",
      "19  2003-03-13 22:26      groucho-tokyo  1965603898   TCP   NaN  26180.0   \n",
      "20  2003-03-13 22:29         groucho-eu  3683780686   UDP   NaN  54790.0   \n",
      "28  2003-03-13 22:42     groucho-oregon  1017977401   TCP   NaN   6000.0   \n",
      "30  2003-03-13 22:45     groucho-oregon  2073368071   TCP   NaN   6000.0   \n",
      "\n",
      "       dpt           srcstr  cc country          locale localeabbr postalcode  \\\n",
      "0   1433.0   61.131.218.218  CN   China   Jiangxi Sheng         36        NaN   \n",
      "6   1433.0   222.89.164.247  CN   China     Henan Sheng         41        NaN   \n",
      "7   3306.0  222.214.218.109  CN   China   Sichuan Sheng         51        NaN   \n",
      "8   1433.0    219.148.38.70  CN   China           Hebei         13        NaN   \n",
      "9   1433.0      60.19.24.16  CN   China        Liaoning         21        NaN   \n",
      "11  1433.0    117.40.188.58  CN   China   Jiangxi Sheng         36        NaN   \n",
      "19  1433.0    117.40.188.58  CN   China   Jiangxi Sheng         36        NaN   \n",
      "20  5060.0     219.146.8.78  CN   China  Shandong Sheng         37        NaN   \n",
      "28  1433.0     60.173.26.57  CN   China     Anhui Sheng         34        NaN   \n",
      "30  1433.0     123.149.22.7  CN   China     Henan Sheng         41        NaN   \n",
      "\n",
      "    latitude  longitude  Unnamed: 15  \n",
      "0    28.5500   115.9333          NaN  \n",
      "6    34.6836   113.5325          NaN  \n",
      "7    30.6667   104.0667          NaN  \n",
      "8    39.8897   115.2750          NaN  \n",
      "9    41.7922   123.4328          NaN  \n",
      "11   28.5500   115.9333          NaN  \n",
      "19   28.5500   115.9333          NaN  \n",
      "20   36.6683   116.9972          NaN  \n",
      "28   31.8639   117.2808          NaN  \n",
      "30   34.6836   113.5325          NaN  \n"
     ]
    }
   ],
   "source": [
    "# show data order by locale == 'Jiangxi Sheng\n",
    "print(china.head(10))\n",
    "china_locale = aws_df['locale'] == 'Jiangxi Sheng'"
   ]
  },
  {
   "cell_type": "code",
   "execution_count": 408,
   "metadata": {},
   "outputs": [
    {
     "name": "stdout",
     "output_type": "stream",
     "text": [
      "(191394, 16)\n"
     ]
    }
   ],
   "source": [
    "print(china.shape)"
   ]
  },
  {
   "cell_type": "code",
   "execution_count": 409,
   "metadata": {},
   "outputs": [
    {
     "data": {
      "text/html": [
       "<div>\n",
       "<style scoped>\n",
       "    .dataframe tbody tr th:only-of-type {\n",
       "        vertical-align: middle;\n",
       "    }\n",
       "\n",
       "    .dataframe tbody tr th {\n",
       "        vertical-align: top;\n",
       "    }\n",
       "\n",
       "    .dataframe thead th {\n",
       "        text-align: right;\n",
       "    }\n",
       "</style>\n",
       "<table border=\"1\" class=\"dataframe\">\n",
       "  <thead>\n",
       "    <tr style=\"text-align: right;\">\n",
       "      <th></th>\n",
       "      <th>datetime</th>\n",
       "      <th>host</th>\n",
       "      <th>src</th>\n",
       "      <th>proto</th>\n",
       "      <th>type</th>\n",
       "      <th>spt</th>\n",
       "      <th>dpt</th>\n",
       "      <th>srcstr</th>\n",
       "      <th>cc</th>\n",
       "      <th>country</th>\n",
       "      <th>locale</th>\n",
       "      <th>localeabbr</th>\n",
       "      <th>postalcode</th>\n",
       "      <th>latitude</th>\n",
       "      <th>longitude</th>\n",
       "      <th>Unnamed: 15</th>\n",
       "    </tr>\n",
       "  </thead>\n",
       "  <tbody>\n",
       "    <tr>\n",
       "      <th>0</th>\n",
       "      <td>2003-03-13 21:53</td>\n",
       "      <td>groucho-oregon</td>\n",
       "      <td>1032051418</td>\n",
       "      <td>TCP</td>\n",
       "      <td>NaN</td>\n",
       "      <td>6000.0</td>\n",
       "      <td>1433.0</td>\n",
       "      <td>61.131.218.218</td>\n",
       "      <td>CN</td>\n",
       "      <td>China</td>\n",
       "      <td>Jiangxi Sheng</td>\n",
       "      <td>36</td>\n",
       "      <td>NaN</td>\n",
       "      <td>28.5500</td>\n",
       "      <td>115.9333</td>\n",
       "      <td>NaN</td>\n",
       "    </tr>\n",
       "    <tr>\n",
       "      <th>6</th>\n",
       "      <td>2003-03-13 21:59</td>\n",
       "      <td>groucho-oregon</td>\n",
       "      <td>3730416887</td>\n",
       "      <td>TCP</td>\n",
       "      <td>NaN</td>\n",
       "      <td>6000.0</td>\n",
       "      <td>1433.0</td>\n",
       "      <td>222.89.164.247</td>\n",
       "      <td>CN</td>\n",
       "      <td>China</td>\n",
       "      <td>Henan Sheng</td>\n",
       "      <td>41</td>\n",
       "      <td>NaN</td>\n",
       "      <td>34.6836</td>\n",
       "      <td>113.5325</td>\n",
       "      <td>NaN</td>\n",
       "    </tr>\n",
       "    <tr>\n",
       "      <th>7</th>\n",
       "      <td>2003-03-13 22:07</td>\n",
       "      <td>groucho-singapore</td>\n",
       "      <td>3738622573</td>\n",
       "      <td>TCP</td>\n",
       "      <td>NaN</td>\n",
       "      <td>6000.0</td>\n",
       "      <td>3306.0</td>\n",
       "      <td>222.214.218.109</td>\n",
       "      <td>CN</td>\n",
       "      <td>China</td>\n",
       "      <td>Sichuan Sheng</td>\n",
       "      <td>51</td>\n",
       "      <td>NaN</td>\n",
       "      <td>30.6667</td>\n",
       "      <td>104.0667</td>\n",
       "      <td>NaN</td>\n",
       "    </tr>\n",
       "    <tr>\n",
       "      <th>8</th>\n",
       "      <td>2003-03-13 22:12</td>\n",
       "      <td>groucho-oregon</td>\n",
       "      <td>3683919430</td>\n",
       "      <td>TCP</td>\n",
       "      <td>NaN</td>\n",
       "      <td>6000.0</td>\n",
       "      <td>1433.0</td>\n",
       "      <td>219.148.38.70</td>\n",
       "      <td>CN</td>\n",
       "      <td>China</td>\n",
       "      <td>Hebei</td>\n",
       "      <td>13</td>\n",
       "      <td>NaN</td>\n",
       "      <td>39.8897</td>\n",
       "      <td>115.2750</td>\n",
       "      <td>NaN</td>\n",
       "    </tr>\n",
       "    <tr>\n",
       "      <th>9</th>\n",
       "      <td>2003-03-13 22:14</td>\n",
       "      <td>groucho-singapore</td>\n",
       "      <td>1007884304</td>\n",
       "      <td>TCP</td>\n",
       "      <td>NaN</td>\n",
       "      <td>6000.0</td>\n",
       "      <td>1433.0</td>\n",
       "      <td>60.19.24.16</td>\n",
       "      <td>CN</td>\n",
       "      <td>China</td>\n",
       "      <td>Liaoning</td>\n",
       "      <td>21</td>\n",
       "      <td>NaN</td>\n",
       "      <td>41.7922</td>\n",
       "      <td>123.4328</td>\n",
       "      <td>NaN</td>\n",
       "    </tr>\n",
       "  </tbody>\n",
       "</table>\n",
       "</div>"
      ],
      "text/plain": [
       "           datetime               host         src proto  type     spt  \\\n",
       "0  2003-03-13 21:53     groucho-oregon  1032051418   TCP   NaN  6000.0   \n",
       "6  2003-03-13 21:59     groucho-oregon  3730416887   TCP   NaN  6000.0   \n",
       "7  2003-03-13 22:07  groucho-singapore  3738622573   TCP   NaN  6000.0   \n",
       "8  2003-03-13 22:12     groucho-oregon  3683919430   TCP   NaN  6000.0   \n",
       "9  2003-03-13 22:14  groucho-singapore  1007884304   TCP   NaN  6000.0   \n",
       "\n",
       "      dpt           srcstr  cc country         locale localeabbr postalcode  \\\n",
       "0  1433.0   61.131.218.218  CN   China  Jiangxi Sheng         36        NaN   \n",
       "6  1433.0   222.89.164.247  CN   China    Henan Sheng         41        NaN   \n",
       "7  3306.0  222.214.218.109  CN   China  Sichuan Sheng         51        NaN   \n",
       "8  1433.0    219.148.38.70  CN   China          Hebei         13        NaN   \n",
       "9  1433.0      60.19.24.16  CN   China       Liaoning         21        NaN   \n",
       "\n",
       "   latitude  longitude  Unnamed: 15  \n",
       "0   28.5500   115.9333          NaN  \n",
       "6   34.6836   113.5325          NaN  \n",
       "7   30.6667   104.0667          NaN  \n",
       "8   39.8897   115.2750          NaN  \n",
       "9   41.7922   123.4328          NaN  "
      ]
     },
     "execution_count": 409,
     "metadata": {},
     "output_type": "execute_result"
    }
   ],
   "source": [
    "china.head(5)"
   ]
  },
  {
   "cell_type": "code",
   "execution_count": 410,
   "metadata": {},
   "outputs": [
    {
     "name": "stdout",
     "output_type": "stream",
     "text": [
      "            datetime               host proto  type      spt     dpt  cc  \\\n",
      "0   2003-03-13 21:53     groucho-oregon   TCP   NaN   6000.0  1433.0  CN   \n",
      "6   2003-03-13 21:59     groucho-oregon   TCP   NaN   6000.0  1433.0  CN   \n",
      "7   2003-03-13 22:07  groucho-singapore   TCP   NaN   6000.0  3306.0  CN   \n",
      "8   2003-03-13 22:12     groucho-oregon   TCP   NaN   6000.0  1433.0  CN   \n",
      "9   2003-03-13 22:14  groucho-singapore   TCP   NaN   6000.0  1433.0  CN   \n",
      "11  2003-03-13 22:20     groucho-oregon   TCP   NaN   9907.0  1433.0  CN   \n",
      "19  2003-03-13 22:26      groucho-tokyo   TCP   NaN  26180.0  1433.0  CN   \n",
      "20  2003-03-13 22:29         groucho-eu   UDP   NaN  54790.0  5060.0  CN   \n",
      "\n",
      "   country          locale localeabbr  latitude  \n",
      "0    China   Jiangxi Sheng         36   28.5500  \n",
      "6    China     Henan Sheng         41   34.6836  \n",
      "7    China   Sichuan Sheng         51   30.6667  \n",
      "8    China           Hebei         13   39.8897  \n",
      "9    China        Liaoning         21   41.7922  \n",
      "11   China   Jiangxi Sheng         36   28.5500  \n",
      "19   China   Jiangxi Sheng         36   28.5500  \n",
      "20   China  Shandong Sheng         37   36.6683  \n"
     ]
    }
   ],
   "source": [
    "china_dataset=china.drop(['postalcode','srcstr','src','longitude','Unnamed: 15'],axis=1)\n",
    "print(china_dataset.head(8))"
   ]
  },
  {
   "cell_type": "code",
   "execution_count": 411,
   "metadata": {},
   "outputs": [
    {
     "data": {
      "text/plain": [
       "Jiangsu Sheng               34114\n",
       "Beijing Shi                 33564\n",
       "Liaoning                    21346\n",
       "Anhui Sheng                 13327\n",
       "Zhejiang Sheng              10616\n",
       "Guangdong                    9869\n",
       "Jiangxi Sheng                7728\n",
       "Shanghai Shi                 6486\n",
       "Shandong Sheng               5973\n",
       "Heilongjiang Sheng           3512\n",
       "Hunan                        3428\n",
       "Tianjin Shi                  3200\n",
       "Henan Sheng                  3043\n",
       "Sichuan Sheng                3014\n",
       "Fujian                       2866\n",
       "Hubei                        2795\n",
       "Hebei                        2394\n",
       "Jilin Sheng                  2096\n",
       "Yunnan                       1677\n",
       "Shaanxi                      1466\n",
       "Inner Mongolia               1089\n",
       "Guangxi Zhuangzu Zizhiqu     1032\n",
       "Chongqing Shi                 894\n",
       "Xinjiang Uygur Zizhiqu        663\n",
       "Shanxi Sheng                  494\n",
       "Gansu Sheng                   473\n",
       "Guizhou Sheng                 352\n",
       "Ningxia Huizu Zizhiqu         232\n",
       "Qinghai Sheng                 172\n",
       "Hainan                         81\n",
       "Tibet Autonomous Region        12\n",
       "Name: locale, dtype: int64"
      ]
     },
     "execution_count": 411,
     "metadata": {},
     "output_type": "execute_result"
    }
   ],
   "source": [
    "china = aws_df[aws_df['cc']=='CN']\n",
    "china_droped = china.drop(['type','cc','postalcode','localeabbr','Unnamed: 15'],axis=1)\n",
    "city_pop = china_droped['locale'].value_counts()\n",
    "city_pop"
   ]
  },
  {
   "cell_type": "code",
   "execution_count": 412,
   "metadata": {},
   "outputs": [
    {
     "data": {
      "text/html": [
       "<div>\n",
       "<style scoped>\n",
       "    .dataframe tbody tr th:only-of-type {\n",
       "        vertical-align: middle;\n",
       "    }\n",
       "\n",
       "    .dataframe tbody tr th {\n",
       "        vertical-align: top;\n",
       "    }\n",
       "\n",
       "    .dataframe thead th {\n",
       "        text-align: right;\n",
       "    }\n",
       "</style>\n",
       "<table border=\"1\" class=\"dataframe\">\n",
       "  <thead>\n",
       "    <tr style=\"text-align: right;\">\n",
       "      <th></th>\n",
       "      <th>datetime</th>\n",
       "      <th>host</th>\n",
       "      <th>src</th>\n",
       "      <th>proto</th>\n",
       "      <th>spt</th>\n",
       "      <th>dpt</th>\n",
       "      <th>srcstr</th>\n",
       "      <th>country</th>\n",
       "      <th>locale</th>\n",
       "      <th>latitude</th>\n",
       "      <th>longitude</th>\n",
       "    </tr>\n",
       "  </thead>\n",
       "  <tbody>\n",
       "    <tr>\n",
       "      <th>0</th>\n",
       "      <td>2003-03-13 21:53</td>\n",
       "      <td>groucho-oregon</td>\n",
       "      <td>1032051418</td>\n",
       "      <td>TCP</td>\n",
       "      <td>6000.0</td>\n",
       "      <td>1433.0</td>\n",
       "      <td>61.131.218.218</td>\n",
       "      <td>China</td>\n",
       "      <td>Jiangxi Sheng</td>\n",
       "      <td>28.5500</td>\n",
       "      <td>115.9333</td>\n",
       "    </tr>\n",
       "    <tr>\n",
       "      <th>6</th>\n",
       "      <td>2003-03-13 21:59</td>\n",
       "      <td>groucho-oregon</td>\n",
       "      <td>3730416887</td>\n",
       "      <td>TCP</td>\n",
       "      <td>6000.0</td>\n",
       "      <td>1433.0</td>\n",
       "      <td>222.89.164.247</td>\n",
       "      <td>China</td>\n",
       "      <td>Henan Sheng</td>\n",
       "      <td>34.6836</td>\n",
       "      <td>113.5325</td>\n",
       "    </tr>\n",
       "    <tr>\n",
       "      <th>7</th>\n",
       "      <td>2003-03-13 22:07</td>\n",
       "      <td>groucho-singapore</td>\n",
       "      <td>3738622573</td>\n",
       "      <td>TCP</td>\n",
       "      <td>6000.0</td>\n",
       "      <td>3306.0</td>\n",
       "      <td>222.214.218.109</td>\n",
       "      <td>China</td>\n",
       "      <td>Sichuan Sheng</td>\n",
       "      <td>30.6667</td>\n",
       "      <td>104.0667</td>\n",
       "    </tr>\n",
       "    <tr>\n",
       "      <th>8</th>\n",
       "      <td>2003-03-13 22:12</td>\n",
       "      <td>groucho-oregon</td>\n",
       "      <td>3683919430</td>\n",
       "      <td>TCP</td>\n",
       "      <td>6000.0</td>\n",
       "      <td>1433.0</td>\n",
       "      <td>219.148.38.70</td>\n",
       "      <td>China</td>\n",
       "      <td>Hebei</td>\n",
       "      <td>39.8897</td>\n",
       "      <td>115.2750</td>\n",
       "    </tr>\n",
       "    <tr>\n",
       "      <th>9</th>\n",
       "      <td>2003-03-13 22:14</td>\n",
       "      <td>groucho-singapore</td>\n",
       "      <td>1007884304</td>\n",
       "      <td>TCP</td>\n",
       "      <td>6000.0</td>\n",
       "      <td>1433.0</td>\n",
       "      <td>60.19.24.16</td>\n",
       "      <td>China</td>\n",
       "      <td>Liaoning</td>\n",
       "      <td>41.7922</td>\n",
       "      <td>123.4328</td>\n",
       "    </tr>\n",
       "    <tr>\n",
       "      <th>...</th>\n",
       "      <td>...</td>\n",
       "      <td>...</td>\n",
       "      <td>...</td>\n",
       "      <td>...</td>\n",
       "      <td>...</td>\n",
       "      <td>...</td>\n",
       "      <td>...</td>\n",
       "      <td>...</td>\n",
       "      <td>...</td>\n",
       "      <td>...</td>\n",
       "      <td>...</td>\n",
       "    </tr>\n",
       "    <tr>\n",
       "      <th>280</th>\n",
       "      <td>2003-04-13 2:57</td>\n",
       "      <td>groucho-singapore</td>\n",
       "      <td>3032095556</td>\n",
       "      <td>TCP</td>\n",
       "      <td>6000.0</td>\n",
       "      <td>1433.0</td>\n",
       "      <td>180.186.27.68</td>\n",
       "      <td>China</td>\n",
       "      <td>Beijing Shi</td>\n",
       "      <td>39.9289</td>\n",
       "      <td>116.3883</td>\n",
       "    </tr>\n",
       "    <tr>\n",
       "      <th>281</th>\n",
       "      <td>2003-04-13 3:01</td>\n",
       "      <td>groucho-singapore</td>\n",
       "      <td>3736210160</td>\n",
       "      <td>TCP</td>\n",
       "      <td>11595.0</td>\n",
       "      <td>3389.0</td>\n",
       "      <td>222.178.10.240</td>\n",
       "      <td>China</td>\n",
       "      <td>Chongqing Shi</td>\n",
       "      <td>29.5628</td>\n",
       "      <td>106.5528</td>\n",
       "    </tr>\n",
       "    <tr>\n",
       "      <th>285</th>\n",
       "      <td>2003-04-13 3:05</td>\n",
       "      <td>groucho-singapore</td>\n",
       "      <td>3740323306</td>\n",
       "      <td>TCP</td>\n",
       "      <td>5917.0</td>\n",
       "      <td>1433.0</td>\n",
       "      <td>222.240.205.234</td>\n",
       "      <td>China</td>\n",
       "      <td>Hunan</td>\n",
       "      <td>28.1792</td>\n",
       "      <td>113.1136</td>\n",
       "    </tr>\n",
       "    <tr>\n",
       "      <th>286</th>\n",
       "      <td>2003-04-13 3:15</td>\n",
       "      <td>groucho-singapore</td>\n",
       "      <td>3546779834</td>\n",
       "      <td>TCP</td>\n",
       "      <td>1024.0</td>\n",
       "      <td>3389.0</td>\n",
       "      <td>211.103.144.186</td>\n",
       "      <td>China</td>\n",
       "      <td>Beijing Shi</td>\n",
       "      <td>39.9289</td>\n",
       "      <td>116.3883</td>\n",
       "    </tr>\n",
       "    <tr>\n",
       "      <th>296</th>\n",
       "      <td>2003-04-13 3:19</td>\n",
       "      <td>groucho-eu</td>\n",
       "      <td>3707355707</td>\n",
       "      <td>TCP</td>\n",
       "      <td>4935.0</td>\n",
       "      <td>3389.0</td>\n",
       "      <td>220.249.194.59</td>\n",
       "      <td>China</td>\n",
       "      <td>NaN</td>\n",
       "      <td>35.0000</td>\n",
       "      <td>105.0000</td>\n",
       "    </tr>\n",
       "  </tbody>\n",
       "</table>\n",
       "<p>100 rows × 11 columns</p>\n",
       "</div>"
      ],
      "text/plain": [
       "             datetime               host         src proto      spt     dpt  \\\n",
       "0    2003-03-13 21:53     groucho-oregon  1032051418   TCP   6000.0  1433.0   \n",
       "6    2003-03-13 21:59     groucho-oregon  3730416887   TCP   6000.0  1433.0   \n",
       "7    2003-03-13 22:07  groucho-singapore  3738622573   TCP   6000.0  3306.0   \n",
       "8    2003-03-13 22:12     groucho-oregon  3683919430   TCP   6000.0  1433.0   \n",
       "9    2003-03-13 22:14  groucho-singapore  1007884304   TCP   6000.0  1433.0   \n",
       "..                ...                ...         ...   ...      ...     ...   \n",
       "280   2003-04-13 2:57  groucho-singapore  3032095556   TCP   6000.0  1433.0   \n",
       "281   2003-04-13 3:01  groucho-singapore  3736210160   TCP  11595.0  3389.0   \n",
       "285   2003-04-13 3:05  groucho-singapore  3740323306   TCP   5917.0  1433.0   \n",
       "286   2003-04-13 3:15  groucho-singapore  3546779834   TCP   1024.0  3389.0   \n",
       "296   2003-04-13 3:19         groucho-eu  3707355707   TCP   4935.0  3389.0   \n",
       "\n",
       "              srcstr country         locale  latitude  longitude  \n",
       "0     61.131.218.218   China  Jiangxi Sheng   28.5500   115.9333  \n",
       "6     222.89.164.247   China    Henan Sheng   34.6836   113.5325  \n",
       "7    222.214.218.109   China  Sichuan Sheng   30.6667   104.0667  \n",
       "8      219.148.38.70   China          Hebei   39.8897   115.2750  \n",
       "9        60.19.24.16   China       Liaoning   41.7922   123.4328  \n",
       "..               ...     ...            ...       ...        ...  \n",
       "280    180.186.27.68   China    Beijing Shi   39.9289   116.3883  \n",
       "281   222.178.10.240   China  Chongqing Shi   29.5628   106.5528  \n",
       "285  222.240.205.234   China          Hunan   28.1792   113.1136  \n",
       "286  211.103.144.186   China    Beijing Shi   39.9289   116.3883  \n",
       "296   220.249.194.59   China            NaN   35.0000   105.0000  \n",
       "\n",
       "[100 rows x 11 columns]"
      ]
     },
     "execution_count": 412,
     "metadata": {},
     "output_type": "execute_result"
    }
   ],
   "source": [
    "china = aws_df[aws_df['cc']=='CN']\n",
    "china_droped_data = china.drop(['type','cc','postalcode','localeabbr','Unnamed: 15'],axis=1)\n",
    "china_droped_data.head(100)"
   ]
  },
  {
   "cell_type": "code",
   "execution_count": 413,
   "metadata": {},
   "outputs": [
    {
     "data": {
      "text/html": [
       "<div>\n",
       "<style scoped>\n",
       "    .dataframe tbody tr th:only-of-type {\n",
       "        vertical-align: middle;\n",
       "    }\n",
       "\n",
       "    .dataframe tbody tr th {\n",
       "        vertical-align: top;\n",
       "    }\n",
       "\n",
       "    .dataframe thead th {\n",
       "        text-align: right;\n",
       "    }\n",
       "</style>\n",
       "<table border=\"1\" class=\"dataframe\">\n",
       "  <thead>\n",
       "    <tr style=\"text-align: right;\">\n",
       "      <th></th>\n",
       "      <th>datetime</th>\n",
       "      <th>host</th>\n",
       "      <th>src</th>\n",
       "      <th>proto</th>\n",
       "      <th>spt</th>\n",
       "      <th>dpt</th>\n",
       "      <th>srcstr</th>\n",
       "      <th>country</th>\n",
       "      <th>locale</th>\n",
       "      <th>latitude</th>\n",
       "      <th>longitude</th>\n",
       "    </tr>\n",
       "  </thead>\n",
       "  <tbody>\n",
       "    <tr>\n",
       "      <th>433009</th>\n",
       "      <td>8/31/13 20:26</td>\n",
       "      <td>groucho-oregon</td>\n",
       "      <td>1035001150</td>\n",
       "      <td>TCP</td>\n",
       "      <td>6000.0</td>\n",
       "      <td>1433.0</td>\n",
       "      <td>61.176.221.62</td>\n",
       "      <td>China</td>\n",
       "      <td>Liaoning</td>\n",
       "      <td>41.7922</td>\n",
       "      <td>123.4328</td>\n",
       "    </tr>\n",
       "    <tr>\n",
       "      <th>432716</th>\n",
       "      <td>8/31/13 17:14</td>\n",
       "      <td>groucho-oregon</td>\n",
       "      <td>3689643694</td>\n",
       "      <td>TCP</td>\n",
       "      <td>9182.0</td>\n",
       "      <td>22.0</td>\n",
       "      <td>219.235.126.174</td>\n",
       "      <td>China</td>\n",
       "      <td>Liaoning</td>\n",
       "      <td>41.7239</td>\n",
       "      <td>123.2017</td>\n",
       "    </tr>\n",
       "    <tr>\n",
       "      <th>432368</th>\n",
       "      <td>8/31/13 13:44</td>\n",
       "      <td>groucho-eu</td>\n",
       "      <td>2076058707</td>\n",
       "      <td>TCP</td>\n",
       "      <td>5569.0</td>\n",
       "      <td>1433.0</td>\n",
       "      <td>123.190.36.83</td>\n",
       "      <td>China</td>\n",
       "      <td>Liaoning</td>\n",
       "      <td>41.7922</td>\n",
       "      <td>123.4328</td>\n",
       "    </tr>\n",
       "    <tr>\n",
       "      <th>431987</th>\n",
       "      <td>8/31/13 10:13</td>\n",
       "      <td>groucho-tokyo</td>\n",
       "      <td>2947028161</td>\n",
       "      <td>TCP</td>\n",
       "      <td>45753.0</td>\n",
       "      <td>23.0</td>\n",
       "      <td>175.168.20.193</td>\n",
       "      <td>China</td>\n",
       "      <td>Liaoning</td>\n",
       "      <td>41.7922</td>\n",
       "      <td>123.4328</td>\n",
       "    </tr>\n",
       "    <tr>\n",
       "      <th>429229</th>\n",
       "      <td>8/30/13 7:24</td>\n",
       "      <td>groucho-oregon</td>\n",
       "      <td>1991939326</td>\n",
       "      <td>TCP</td>\n",
       "      <td>6000.0</td>\n",
       "      <td>1433.0</td>\n",
       "      <td>118.186.148.254</td>\n",
       "      <td>China</td>\n",
       "      <td>Liaoning</td>\n",
       "      <td>41.5703</td>\n",
       "      <td>120.4586</td>\n",
       "    </tr>\n",
       "    <tr>\n",
       "      <th>...</th>\n",
       "      <td>...</td>\n",
       "      <td>...</td>\n",
       "      <td>...</td>\n",
       "      <td>...</td>\n",
       "      <td>...</td>\n",
       "      <td>...</td>\n",
       "      <td>...</td>\n",
       "      <td>...</td>\n",
       "      <td>...</td>\n",
       "      <td>...</td>\n",
       "      <td>...</td>\n",
       "    </tr>\n",
       "    <tr>\n",
       "      <th>421296</th>\n",
       "      <td>8/27/13 0:26</td>\n",
       "      <td>groucho-tokyo</td>\n",
       "      <td>2945632252</td>\n",
       "      <td>UDP</td>\n",
       "      <td>25416.0</td>\n",
       "      <td>56338.0</td>\n",
       "      <td>175.146.199.252</td>\n",
       "      <td>China</td>\n",
       "      <td>Liaoning</td>\n",
       "      <td>41.7922</td>\n",
       "      <td>123.4328</td>\n",
       "    </tr>\n",
       "    <tr>\n",
       "      <th>421297</th>\n",
       "      <td>8/27/13 0:26</td>\n",
       "      <td>groucho-tokyo</td>\n",
       "      <td>2945632252</td>\n",
       "      <td>UDP</td>\n",
       "      <td>25416.0</td>\n",
       "      <td>56338.0</td>\n",
       "      <td>175.146.199.252</td>\n",
       "      <td>China</td>\n",
       "      <td>Liaoning</td>\n",
       "      <td>41.7922</td>\n",
       "      <td>123.4328</td>\n",
       "    </tr>\n",
       "    <tr>\n",
       "      <th>421298</th>\n",
       "      <td>8/27/13 0:26</td>\n",
       "      <td>groucho-tokyo</td>\n",
       "      <td>2945632252</td>\n",
       "      <td>UDP</td>\n",
       "      <td>25416.0</td>\n",
       "      <td>56338.0</td>\n",
       "      <td>175.146.199.252</td>\n",
       "      <td>China</td>\n",
       "      <td>Liaoning</td>\n",
       "      <td>41.7922</td>\n",
       "      <td>123.4328</td>\n",
       "    </tr>\n",
       "    <tr>\n",
       "      <th>421299</th>\n",
       "      <td>8/27/13 0:26</td>\n",
       "      <td>groucho-tokyo</td>\n",
       "      <td>2945632252</td>\n",
       "      <td>UDP</td>\n",
       "      <td>25416.0</td>\n",
       "      <td>56338.0</td>\n",
       "      <td>175.146.199.252</td>\n",
       "      <td>China</td>\n",
       "      <td>Liaoning</td>\n",
       "      <td>41.7922</td>\n",
       "      <td>123.4328</td>\n",
       "    </tr>\n",
       "    <tr>\n",
       "      <th>421300</th>\n",
       "      <td>8/27/13 0:26</td>\n",
       "      <td>groucho-tokyo</td>\n",
       "      <td>2945632252</td>\n",
       "      <td>UDP</td>\n",
       "      <td>25416.0</td>\n",
       "      <td>56338.0</td>\n",
       "      <td>175.146.199.252</td>\n",
       "      <td>China</td>\n",
       "      <td>Liaoning</td>\n",
       "      <td>41.7922</td>\n",
       "      <td>123.4328</td>\n",
       "    </tr>\n",
       "  </tbody>\n",
       "</table>\n",
       "<p>100 rows × 11 columns</p>\n",
       "</div>"
      ],
      "text/plain": [
       "             datetime            host         src proto      spt      dpt  \\\n",
       "433009  8/31/13 20:26  groucho-oregon  1035001150   TCP   6000.0   1433.0   \n",
       "432716  8/31/13 17:14  groucho-oregon  3689643694   TCP   9182.0     22.0   \n",
       "432368  8/31/13 13:44      groucho-eu  2076058707   TCP   5569.0   1433.0   \n",
       "431987  8/31/13 10:13   groucho-tokyo  2947028161   TCP  45753.0     23.0   \n",
       "429229   8/30/13 7:24  groucho-oregon  1991939326   TCP   6000.0   1433.0   \n",
       "...               ...             ...         ...   ...      ...      ...   \n",
       "421296   8/27/13 0:26   groucho-tokyo  2945632252   UDP  25416.0  56338.0   \n",
       "421297   8/27/13 0:26   groucho-tokyo  2945632252   UDP  25416.0  56338.0   \n",
       "421298   8/27/13 0:26   groucho-tokyo  2945632252   UDP  25416.0  56338.0   \n",
       "421299   8/27/13 0:26   groucho-tokyo  2945632252   UDP  25416.0  56338.0   \n",
       "421300   8/27/13 0:26   groucho-tokyo  2945632252   UDP  25416.0  56338.0   \n",
       "\n",
       "                 srcstr country    locale  latitude  longitude  \n",
       "433009    61.176.221.62   China  Liaoning   41.7922   123.4328  \n",
       "432716  219.235.126.174   China  Liaoning   41.7239   123.2017  \n",
       "432368    123.190.36.83   China  Liaoning   41.7922   123.4328  \n",
       "431987   175.168.20.193   China  Liaoning   41.7922   123.4328  \n",
       "429229  118.186.148.254   China  Liaoning   41.5703   120.4586  \n",
       "...                 ...     ...       ...       ...        ...  \n",
       "421296  175.146.199.252   China  Liaoning   41.7922   123.4328  \n",
       "421297  175.146.199.252   China  Liaoning   41.7922   123.4328  \n",
       "421298  175.146.199.252   China  Liaoning   41.7922   123.4328  \n",
       "421299  175.146.199.252   China  Liaoning   41.7922   123.4328  \n",
       "421300  175.146.199.252   China  Liaoning   41.7922   123.4328  \n",
       "\n",
       "[100 rows x 11 columns]"
      ]
     },
     "execution_count": 413,
     "metadata": {},
     "output_type": "execute_result"
    }
   ],
   "source": [
    "china_locale = aws_df[aws_df['locale']=='Liaoning']\n",
    "china_locale_dropped = china_locale.drop(['type','cc','postalcode','localeabbr','Unnamed: 15'],axis=1)\n",
    "china_locale_sorted = china_locale_dropped.sort_values(by='datetime',ascending=False)\n",
    "china_locale_sorted.head(100)"
   ]
  },
  {
   "cell_type": "code",
   "execution_count": 414,
   "metadata": {},
   "outputs": [],
   "source": [
    "locale_name = ['Shanghai Shi','Jiangsu Sheng','Fujian','Hubei','Gansu Sheng']\n",
    "locale_pop = [6486,34114,2866,2795,473]"
   ]
  },
  {
   "cell_type": "code",
   "execution_count": 415,
   "metadata": {},
   "outputs": [
    {
     "data": {
      "image/png": "[encoded data removed]",
      "text/plain": [
       "<Figure size 576x576 with 1 Axes>"
      ]
     },
     "metadata": {},
     "output_type": "display_data"
    }
   ],
   "source": [
    "plt.figure(figsize=(8, 8))\n",
    "plt.pie(locale_pop, labels=locale_name)\n",
    "plt.show()"
   ]
  },
  {
   "cell_type": "code",
   "execution_count": 416,
   "metadata": {},
   "outputs": [
    {
     "data": {
      "image/png": "[encoded data removed]",
      "text/plain": [
       "<Figure size 720x360 with 1 Axes>"
      ]
     },
     "metadata": {
      "needs_background": "light"
     },
     "output_type": "display_data"
    }
   ],
   "source": [
    "# Cleaning the Date & Time Column\n",
    "DateTimes = aws_df['datetime'].str.split(' ')\n",
    "Times = DateTimes.str.get(1)\n",
    "Dates = DateTimes.str.get(0)\n",
    "\n",
    "Times = Times.str.replace(':', '')\n",
    "Hours = [x[:-2] for x in Times]\n",
    "\n",
    "intTimes =[]\n",
    "intMonths = []\n",
    "intHours = []\n",
    "\n",
    "for hour in Hours:\n",
    "    integer = int(hour)\n",
    "    intHours.append(integer)\n",
    "\n",
    "for time in Times:\n",
    "    integer = int(time)\n",
    "    intTimes.append(integer)\n",
    "\n",
    "for date in Dates:\n",
    "    month = date[0][0]\n",
    "    integer = int(month)\n",
    "    intMonths.append(integer)\n",
    "\n",
    "plt.figure(figsize=(10, 5))\n",
    "plt.hist(intMonths, bins='auto', color='goldenrod', edgecolor='k')\n",
    "plt.xticks([2, 3, 4, 5, 6, 7, 8], ['Feb', 'Mar', 'Apr', 'May', 'Jun', 'Jul', 'Aug'])\n",
    "\n",
    "plt.xlabel('Month', fontsize=14)\n",
    "plt.ylabel('Num of Attacks', fontsize=14)\n",
    "plt.title('Attacks per month', fontsize=15)\n",
    "\n",
    "plt.show()"
   ]
  },
  {
   "cell_type": "code",
   "execution_count": 417,
   "metadata": {},
   "outputs": [
    {
     "data": {
      "image/png": "[encoded data removed]",
      "text/plain": [
       "<Figure size 864x360 with 1 Axes>"
      ]
     },
     "metadata": {
      "needs_background": "light"
     },
     "output_type": "display_data"
    }
   ],
   "source": [
    "plt.figure(figsize=(12, 5))\n",
    "#To draw a histogram plot\n",
    "plt.hist(intHours, bins='auto', color='darkviolet', edgecolor='k')\n",
    "plt.xlabel('Hour', fontsize=12)\n",
    "plt.ylabel('Num of Attacks', fontsize=12)\n",
    "plt.title('Attacks per hour', fontsize=14)\n",
    "plt.show()"
   ]
  },
  {
   "cell_type": "code",
   "execution_count": 418,
   "metadata": {},
   "outputs": [
    {
     "data": {
      "image/png": "[encoded data removed]",
      "text/plain": [
       "<Figure size 864x360 with 1 Axes>"
      ]
     },
     "metadata": {
      "needs_background": "light"
     },
     "output_type": "display_data"
    }
   ],
   "source": [
    "plt.figure(figsize=(12, 5))\n",
    "plt.hist(intTimes, bins='auto', color='teal', edgecolor='k')\n",
    "plt.xlabel('Times', fontsize=12)\n",
    "plt.ylabel('Num of Attacks', fontsize=12)\n",
    "plt.title(\"Attacks in Time\", fontsize=14)\n",
    "plt.show()"
   ]
  },
  {
   "cell_type": "code",
   "execution_count": 419,
   "metadata": {},
   "outputs": [
    {
     "data": {
      "text/plain": [
       "<Figure size 1584x360 with 0 Axes>"
      ]
     },
     "metadata": {},
     "output_type": "display_data"
    },
    {
     "data": {
      "image/png": "[encoded data removed]",
      "text/plain": [
       "<Figure size 450x360 with 1 Axes>"
      ]
     },
     "metadata": {
      "needs_background": "light"
     },
     "output_type": "display_data"
    }
   ],
   "source": [
    "plt.figure(figsize=(22, 5))\n",
    "cc = aws_df['cc']\n",
    "countrytime_df = DataFrame(intHours,cc)\n",
    "sample1 = aws_df.sample(100)\n",
    "sb.catplot(x='cc',data=sample1,kind='count',height=5, aspect=1.25) #Using seaborn for visualize the pearson correlation coefficent\n",
    "plt.show()"
   ]
  },
  {
   "cell_type": "code",
   "execution_count": 420,
   "metadata": {},
   "outputs": [
    {
     "data": {
      "image/png": "[encoded data removed]",
      "text/plain": [
       "<Figure size 1008x360 with 1 Axes>"
      ]
     },
     "metadata": {
      "needs_background": "light"
     },
     "output_type": "display_data"
    }
   ],
   "source": [
    "plt.figure(figsize=(14, 5))\n",
    "plt.xlabel(\"24 Hour\", fontsize=14)\n",
    "plt.ylabel(\"Count\", fontsize=14)\n",
    "sb.histplot(countrytime_df)\n",
    "plt.show()"
   ]
  },
  {
   "cell_type": "code",
   "execution_count": 421,
   "metadata": {},
   "outputs": [
    {
     "data": {
      "text/html": [
       "<div>\n",
       "<style scoped>\n",
       "    .dataframe tbody tr th:only-of-type {\n",
       "        vertical-align: middle;\n",
       "    }\n",
       "\n",
       "    .dataframe tbody tr th {\n",
       "        vertical-align: top;\n",
       "    }\n",
       "\n",
       "    .dataframe thead th {\n",
       "        text-align: right;\n",
       "    }\n",
       "</style>\n",
       "<table border=\"1\" class=\"dataframe\">\n",
       "  <thead>\n",
       "    <tr style=\"text-align: right;\">\n",
       "      <th></th>\n",
       "      <th>0</th>\n",
       "    </tr>\n",
       "  </thead>\n",
       "  <tbody>\n",
       "    <tr>\n",
       "      <th>count</th>\n",
       "      <td>451581.000000</td>\n",
       "    </tr>\n",
       "    <tr>\n",
       "      <th>mean</th>\n",
       "      <td>11.229870</td>\n",
       "    </tr>\n",
       "    <tr>\n",
       "      <th>std</th>\n",
       "      <td>7.003614</td>\n",
       "    </tr>\n",
       "    <tr>\n",
       "      <th>min</th>\n",
       "      <td>0.000000</td>\n",
       "    </tr>\n",
       "    <tr>\n",
       "      <th>25%</th>\n",
       "      <td>5.000000</td>\n",
       "    </tr>\n",
       "    <tr>\n",
       "      <th>50%</th>\n",
       "      <td>11.000000</td>\n",
       "    </tr>\n",
       "    <tr>\n",
       "      <th>75%</th>\n",
       "      <td>17.000000</td>\n",
       "    </tr>\n",
       "    <tr>\n",
       "      <th>max</th>\n",
       "      <td>23.000000</td>\n",
       "    </tr>\n",
       "  </tbody>\n",
       "</table>\n",
       "</div>"
      ],
      "text/plain": [
       "                   0\n",
       "count  451581.000000\n",
       "mean       11.229870\n",
       "std         7.003614\n",
       "min         0.000000\n",
       "25%         5.000000\n",
       "50%        11.000000\n",
       "75%        17.000000\n",
       "max        23.000000"
      ]
     },
     "execution_count": 421,
     "metadata": {},
     "output_type": "execute_result"
    }
   ],
   "source": [
    "countrytime_df.describe()"
   ]
  },
  {
   "cell_type": "code",
   "execution_count": 422,
   "metadata": {},
   "outputs": [
    {
     "data": {
      "image/png": "[encoded data removed]",
      "text/plain": [
       "<Figure size 432x288 with 1 Axes>"
      ]
     },
     "metadata": {
      "needs_background": "light"
     },
     "output_type": "display_data"
    }
   ],
   "source": [
    "plt.plot(intMonths)\n",
    "plt.xlabel(\"Number of attacks\")\n",
    "plt.ylabel(\"Month\")\n",
    "plt.title(\"Total attacks by month\")\n",
    "plt.show()"
   ]
  },
  {
   "cell_type": "code",
   "execution_count": 423,
   "metadata": {},
   "outputs": [
    {
     "data": {
      "image/png": "[encoded data removed]",
      "text/plain": [
       "<Figure size 432x288 with 1 Axes>"
      ]
     },
     "metadata": {
      "needs_background": "light"
     },
     "output_type": "display_data"
    }
   ],
   "source": [
    "plt.plot(intHours,intMonths)\n",
    "plt.xlabel(\"Hour\")\n",
    "plt.ylabel(\"Month\")\n",
    "plt.title(\"Total attacks in month/Hour\")\n",
    "plt.show()"
   ]
  },
  {
   "cell_type": "code",
   "execution_count": 424,
   "metadata": {},
   "outputs": [
    {
     "data": {
      "image/png": "[encoded data removed]",
      "text/plain": [
       "<Figure size 1267.2x288 with 1 Axes>"
      ]
     },
     "metadata": {
      "needs_background": "light"
     },
     "output_type": "display_data"
    }
   ],
   "source": [
    "locale = aws_df['locale']\n",
    "countrytime1_df = DataFrame(intHours,locale)\n",
    "sample1 = aws_df.sample(14)\n",
    "sb.catplot(x='locale',data=sample1,kind='count',height=4, aspect=4.4) # Using seaborn for visualize the pearson correlation coefficent\n",
    "plt.xlabel('Locale', fontsize=16)\n",
    "plt.ylabel('Count', fontsize=16)\n",
    "plt.show()"
   ]
  },
  {
   "cell_type": "code",
   "execution_count": 425,
   "metadata": {},
   "outputs": [
    {
     "data": {
      "image/png": "[encoded data removed]",
      "text/plain": [
       "<Figure size 1267.2x288 with 1 Axes>"
      ]
     },
     "metadata": {
      "needs_background": "light"
     },
     "output_type": "display_data"
    }
   ],
   "source": [
    "host = aws_df['host']\n",
    "countrytime1_df = DataFrame(intMonths,host)\n",
    "sample1 = aws_df.sample(14)\n",
    "sb.catplot(x='host',data=sample1,kind='count',height=4, aspect=4.4) #Using seaborn for visualize the pearson correlation coefficent\n",
    "plt.xlabel('Host', fontsize=16)\n",
    "plt.ylabel('Count', fontsize=16)\n",
    "plt.show()"
   ]
  },
  {
   "cell_type": "code",
   "execution_count": 426,
   "metadata": {},
   "outputs": [
    {
     "data": {
      "image/png": "[encoded data removed]",
      "text/plain": [
       "<Figure size 432x288 with 1 Axes>"
      ]
     },
     "metadata": {
      "needs_background": "light"
     },
     "output_type": "display_data"
    }
   ],
   "source": [
    "# plt.scatter == To plot the graph as a point\n",
    "plt.scatter(x=sample1['spt'],y=sample1['dpt'],color='forestgreen')\n",
    "plt.xlabel(\"Source Port\", fontsize=16)\n",
    "plt.ylabel(\"Destination Port\", fontsize=16)\n",
    "plt.title(\"Destination Port vs. Source Port\", fontsize=16)\n",
    "plt.show()"
   ]
  },
  {
   "cell_type": "markdown",
   "metadata": {},
   "source": [
    "## ECDF = Empirical cumulative distribution function\n",
    "- This graph shows the cumulative distribution of our data\n",
    "- np.sort() = Sort the information it receives and put it inside the variable\n",
    "- np.arange(1, n+1) / n = It makes numbers always show between zero and one"
   ]
  },
  {
   "cell_type": "code",
   "execution_count": 427,
   "metadata": {},
   "outputs": [],
   "source": [
    "def ECDF(data):\n",
    "    n = len(data)\n",
    "    x = np.sort(data)\n",
    "    y = np.arange(1, n+1) / n \n",
    "    return x,y"
   ]
  },
  {
   "cell_type": "code",
   "execution_count": 428,
   "metadata": {},
   "outputs": [],
   "source": [
    "x, y = ECDF(aws_df.src)"
   ]
  },
  {
   "cell_type": "code",
   "execution_count": 429,
   "metadata": {},
   "outputs": [
    {
     "data": {
      "text/plain": [
       "array([  16777254,   16777254,   16884334, ..., 3758092850, 3758093844,\n",
       "       3758093844])"
      ]
     },
     "execution_count": 429,
     "metadata": {},
     "output_type": "execute_result"
    }
   ],
   "source": [
    "x"
   ]
  },
  {
   "cell_type": "code",
   "execution_count": 430,
   "metadata": {},
   "outputs": [
    {
     "data": {
      "text/plain": [
       "array([2.21444215e-06, 4.42888430e-06, 6.64332645e-06, ...,\n",
       "       9.99995571e-01, 9.99997786e-01, 1.00000000e+00])"
      ]
     },
     "execution_count": 430,
     "metadata": {},
     "output_type": "execute_result"
    }
   ],
   "source": [
    "y"
   ]
  },
  {
   "cell_type": "code",
   "execution_count": 431,
   "metadata": {},
   "outputs": [
    {
     "data": {
      "image/png": "[encoded data removed]",
      "text/plain": [
       "<Figure size 864x576 with 1 Axes>"
      ]
     },
     "metadata": {
      "needs_background": "light"
     },
     "output_type": "display_data"
    }
   ],
   "source": [
    "# plt.figure(figsize=(260, 230))\n",
    "plt.figure(figsize=(12, 8))\n",
    "plt.scatter(x, y, s=5)\n",
    "plt.margins(0.05)\n",
    "plt.xlabel('src', fontsize=16)\n",
    "plt.ylabel('ECDF', fontsize=16)\n",
    "plt.show()"
   ]
  },
  {
   "cell_type": "markdown",
   "metadata": {},
   "source": [
    "## use Pandas for calculate the pearson correlation coefficent"
   ]
  },
  {
   "cell_type": "code",
   "execution_count": 432,
   "metadata": {},
   "outputs": [
    {
     "data": {
      "text/html": [
       "<div>\n",
       "<style scoped>\n",
       "    .dataframe tbody tr th:only-of-type {\n",
       "        vertical-align: middle;\n",
       "    }\n",
       "\n",
       "    .dataframe tbody tr th {\n",
       "        vertical-align: top;\n",
       "    }\n",
       "\n",
       "    .dataframe thead th {\n",
       "        text-align: right;\n",
       "    }\n",
       "</style>\n",
       "<table border=\"1\" class=\"dataframe\">\n",
       "  <thead>\n",
       "    <tr style=\"text-align: right;\">\n",
       "      <th></th>\n",
       "      <th>spt</th>\n",
       "      <th>dpt</th>\n",
       "    </tr>\n",
       "  </thead>\n",
       "  <tbody>\n",
       "    <tr>\n",
       "      <th>spt</th>\n",
       "      <td>1.000000</td>\n",
       "      <td>0.148483</td>\n",
       "    </tr>\n",
       "    <tr>\n",
       "      <th>dpt</th>\n",
       "      <td>0.148483</td>\n",
       "      <td>1.000000</td>\n",
       "    </tr>\n",
       "  </tbody>\n",
       "</table>\n",
       "</div>"
      ],
      "text/plain": [
       "          spt       dpt\n",
       "spt  1.000000  0.148483\n",
       "dpt  0.148483  1.000000"
      ]
     },
     "execution_count": 432,
     "metadata": {},
     "output_type": "execute_result"
    }
   ],
   "source": [
    "num_var = aws_df.drop(['type','cc','src','latitude','longitude','Unnamed: 15'], axis=1)\n",
    "num_var\n",
    "corr = num_var.corr()\n",
    "corr"
   ]
  },
  {
   "cell_type": "markdown",
   "metadata": {},
   "source": [
    "## Visualize with Heatmap\n",
    "- ### Using seaborn for visualize the pearson correlation coefficent"
   ]
  },
  {
   "cell_type": "code",
   "execution_count": 433,
   "metadata": {},
   "outputs": [
    {
     "data": {
      "image/png": "[encoded data removed]",
      "text/plain": [
       "<Figure size 432x288 with 2 Axes>"
      ]
     },
     "metadata": {
      "needs_background": "light"
     },
     "output_type": "display_data"
    }
   ],
   "source": [
    "sb.heatmap(corr, xticklabels=corr.columns, yticklabels=corr.columns, vmin=-1, vmax=+1)\n",
    "plt.show()"
   ]
  },
  {
   "cell_type": "markdown",
   "metadata": {},
   "source": [
    "### Calculate Mean"
   ]
  },
  {
   "cell_type": "code",
   "execution_count": 434,
   "metadata": {},
   "outputs": [
    {
     "data": {
      "text/plain": [
       "2154901582.010005"
      ]
     },
     "execution_count": 434,
     "metadata": {},
     "output_type": "execute_result"
    }
   ],
   "source": [
    "np.mean(aws_df.src)"
   ]
  },
  {
   "cell_type": "markdown",
   "metadata": {},
   "source": [
    "### Calculate Median"
   ]
  },
  {
   "cell_type": "code",
   "execution_count": 435,
   "metadata": {},
   "outputs": [
    {
     "data": {
      "text/plain": [
       "2031191236.0"
      ]
     },
     "execution_count": 435,
     "metadata": {},
     "output_type": "execute_result"
    }
   ],
   "source": [
    "np.median(aws_df.src)"
   ]
  },
  {
   "cell_type": "markdown",
   "metadata": {},
   "source": [
    "### Percentile = 25% 50% 75%"
   ]
  },
  {
   "cell_type": "code",
   "execution_count": 436,
   "metadata": {},
   "outputs": [
    {
     "data": {
      "text/plain": [
       "array([1.16912913e+09, 2.03119124e+09, 3.16498842e+09])"
      ]
     },
     "execution_count": 436,
     "metadata": {},
     "output_type": "execute_result"
    }
   ],
   "source": [
    "np.percentile(aws_df.src, [25, 50, 75]) #25 percent, 50 percent, 75 percent"
   ]
  },
  {
   "cell_type": "markdown",
   "metadata": {},
   "source": [
    "# Calculate Variance\n",
    "## - First Method"
   ]
  },
  {
   "cell_type": "code",
   "execution_count": 437,
   "metadata": {},
   "outputs": [
    {
     "data": {
      "text/plain": [
       "1.1685818567316088e+18"
      ]
     },
     "execution_count": 437,
     "metadata": {},
     "output_type": "execute_result"
    }
   ],
   "source": [
    "np.var(aws_df.src)"
   ]
  },
  {
   "cell_type": "markdown",
   "metadata": {},
   "source": [
    "## - Second Method"
   ]
  },
  {
   "cell_type": "code",
   "execution_count": 439,
   "metadata": {},
   "outputs": [
    {
     "data": {
      "text/plain": [
       "1.1685818567316088e+18"
      ]
     },
     "execution_count": 439,
     "metadata": {},
     "output_type": "execute_result"
    }
   ],
   "source": [
    "diff = aws_df.src - np.mean(aws_df.src)\n",
    "diff_sq = diff ** 2\n",
    "var = np.mean(diff_sq)\n",
    "var"
   ]
  },
  {
   "cell_type": "markdown",
   "metadata": {},
   "source": [
    "# Standard deviation"
   ]
  },
  {
   "cell_type": "code",
   "execution_count": 440,
   "metadata": {},
   "outputs": [
    {
     "data": {
      "text/plain": [
       "1081009646.9188464"
      ]
     },
     "execution_count": 440,
     "metadata": {},
     "output_type": "execute_result"
    }
   ],
   "source": [
    "np.std(aws_df.src)"
   ]
  },
  {
   "cell_type": "markdown",
   "metadata": {},
   "source": [
    "- A measure to check the changes of two values relative to each other\n",
    "- Obtaining a positive covariance value indicates a direct relationship between two parameters, and a negative covariance indicates an inverse relationship."
   ]
  },
  {
   "cell_type": "markdown",
   "metadata": {},
   "source": [
    "# Calculate Covariance"
   ]
  },
  {
   "cell_type": "code",
   "execution_count": 441,
   "metadata": {},
   "outputs": [
    {
     "data": {
      "text/plain": [
       "array(1.16858444e+18)"
      ]
     },
     "execution_count": 441,
     "metadata": {},
     "output_type": "execute_result"
    }
   ],
   "source": [
    "np.cov(aws_df.src)"
   ]
  },
  {
   "cell_type": "code",
   "execution_count": null,
   "metadata": {},
   "outputs": [
    {
     "data": {
      "text/plain": [
       "<Figure size 576x576 with 0 Axes>"
      ]
     },
     "metadata": {},
     "output_type": "display_data"
    }
   ],
   "source": [
    "plt.figure(figsize=(8, 8))\n",
    "sb.pairplot(aws_df)\n",
    "plt.show()"
   ]
  },
  {
   "cell_type": "markdown",
   "metadata": {},
   "source": [
    "### - use scipy for calculate the pearson correlation coefficent"
   ]
  },
  {
   "cell_type": "code",
   "execution_count": 390,
   "metadata": {},
   "outputs": [
    {
     "data": {
      "text/html": [
       "<div>\n",
       "<style scoped>\n",
       "    .dataframe tbody tr th:only-of-type {\n",
       "        vertical-align: middle;\n",
       "    }\n",
       "\n",
       "    .dataframe tbody tr th {\n",
       "        vertical-align: top;\n",
       "    }\n",
       "\n",
       "    .dataframe thead th {\n",
       "        text-align: right;\n",
       "    }\n",
       "</style>\n",
       "<table border=\"1\" class=\"dataframe\">\n",
       "  <thead>\n",
       "    <tr style=\"text-align: right;\">\n",
       "      <th></th>\n",
       "      <th>datetime</th>\n",
       "      <th>host</th>\n",
       "      <th>src</th>\n",
       "      <th>proto</th>\n",
       "      <th>type</th>\n",
       "      <th>spt</th>\n",
       "      <th>dpt</th>\n",
       "      <th>srcstr</th>\n",
       "      <th>cc</th>\n",
       "      <th>country</th>\n",
       "      <th>locale</th>\n",
       "      <th>localeabbr</th>\n",
       "      <th>postalcode</th>\n",
       "      <th>latitude</th>\n",
       "      <th>longitude</th>\n",
       "      <th>Unnamed: 15</th>\n",
       "    </tr>\n",
       "  </thead>\n",
       "  <tbody>\n",
       "    <tr>\n",
       "      <th>0</th>\n",
       "      <td>2003-03-13 21:53</td>\n",
       "      <td>groucho-oregon</td>\n",
       "      <td>1032051418</td>\n",
       "      <td>TCP</td>\n",
       "      <td>NaN</td>\n",
       "      <td>6000.0</td>\n",
       "      <td>1433.0</td>\n",
       "      <td>61.131.218.218</td>\n",
       "      <td>CN</td>\n",
       "      <td>China</td>\n",
       "      <td>Jiangxi Sheng</td>\n",
       "      <td>36</td>\n",
       "      <td>NaN</td>\n",
       "      <td>28.5500</td>\n",
       "      <td>115.9333</td>\n",
       "      <td>NaN</td>\n",
       "    </tr>\n",
       "    <tr>\n",
       "      <th>1</th>\n",
       "      <td>2003-03-13 21:57</td>\n",
       "      <td>groucho-oregon</td>\n",
       "      <td>1347834426</td>\n",
       "      <td>UDP</td>\n",
       "      <td>NaN</td>\n",
       "      <td>5270.0</td>\n",
       "      <td>5060.0</td>\n",
       "      <td>80.86.82.58</td>\n",
       "      <td>DE</td>\n",
       "      <td>Germany</td>\n",
       "      <td>NaN</td>\n",
       "      <td>NaN</td>\n",
       "      <td>NaN</td>\n",
       "      <td>51.0000</td>\n",
       "      <td>9.0000</td>\n",
       "      <td>NaN</td>\n",
       "    </tr>\n",
       "    <tr>\n",
       "      <th>2</th>\n",
       "      <td>2003-03-13 21:58</td>\n",
       "      <td>groucho-oregon</td>\n",
       "      <td>2947856490</td>\n",
       "      <td>TCP</td>\n",
       "      <td>NaN</td>\n",
       "      <td>2489.0</td>\n",
       "      <td>1080.0</td>\n",
       "      <td>175.180.184.106</td>\n",
       "      <td>TW</td>\n",
       "      <td>Taiwan</td>\n",
       "      <td>Taipei</td>\n",
       "      <td>NaN</td>\n",
       "      <td>NaN</td>\n",
       "      <td>25.0392</td>\n",
       "      <td>121.5250</td>\n",
       "      <td>NaN</td>\n",
       "    </tr>\n",
       "    <tr>\n",
       "      <th>3</th>\n",
       "      <td>2003-03-13 21:58</td>\n",
       "      <td>groucho-us-east</td>\n",
       "      <td>841842716</td>\n",
       "      <td>UDP</td>\n",
       "      <td>NaN</td>\n",
       "      <td>43235.0</td>\n",
       "      <td>1900.0</td>\n",
       "      <td>50.45.128.28</td>\n",
       "      <td>US</td>\n",
       "      <td>United States</td>\n",
       "      <td>Oregon</td>\n",
       "      <td>OR</td>\n",
       "      <td>97124</td>\n",
       "      <td>45.5848</td>\n",
       "      <td>-122.9117</td>\n",
       "      <td>NaN</td>\n",
       "    </tr>\n",
       "  </tbody>\n",
       "</table>\n",
       "</div>"
      ],
      "text/plain": [
       "           datetime             host         src proto  type      spt     dpt  \\\n",
       "0  2003-03-13 21:53   groucho-oregon  1032051418   TCP   NaN   6000.0  1433.0   \n",
       "1  2003-03-13 21:57   groucho-oregon  1347834426   UDP   NaN   5270.0  5060.0   \n",
       "2  2003-03-13 21:58   groucho-oregon  2947856490   TCP   NaN   2489.0  1080.0   \n",
       "3  2003-03-13 21:58  groucho-us-east   841842716   UDP   NaN  43235.0  1900.0   \n",
       "\n",
       "            srcstr  cc        country         locale localeabbr postalcode  \\\n",
       "0   61.131.218.218  CN          China  Jiangxi Sheng         36        NaN   \n",
       "1      80.86.82.58  DE        Germany            NaN        NaN        NaN   \n",
       "2  175.180.184.106  TW         Taiwan         Taipei        NaN        NaN   \n",
       "3     50.45.128.28  US  United States         Oregon         OR      97124   \n",
       "\n",
       "   latitude  longitude  Unnamed: 15  \n",
       "0   28.5500   115.9333          NaN  \n",
       "1   51.0000     9.0000          NaN  \n",
       "2   25.0392   121.5250          NaN  \n",
       "3   45.5848  -122.9117          NaN  "
      ]
     },
     "execution_count": 390,
     "metadata": {},
     "output_type": "execute_result"
    }
   ],
   "source": [
    "aws_df.head(4)"
   ]
  },
  {
   "cell_type": "code",
   "execution_count": 391,
   "metadata": {},
   "outputs": [
    {
     "name": "stdout",
     "output_type": "stream",
     "text": [
      "Help on function pearsonr in module scipy.stats.stats:\n",
      "\n",
      "pearsonr(x, y)\n",
      "    Pearson correlation coefficient and p-value for testing non-correlation.\n",
      "    \n",
      "    The Pearson correlation coefficient [1]_ measures the linear relationship\n",
      "    between two datasets.  The calculation of the p-value relies on the\n",
      "    assumption that each dataset is normally distributed.  (See Kowalski [3]_\n",
      "    for a discussion of the effects of non-normality of the input on the\n",
      "    distribution of the correlation coefficient.)  Like other correlation\n",
      "    coefficients, this one varies between -1 and +1 with 0 implying no\n",
      "    correlation. Correlations of -1 or +1 imply an exact linear relationship.\n",
      "    Positive correlations imply that as x increases, so does y. Negative\n",
      "    correlations imply that as x increases, y decreases.\n",
      "    \n",
      "    The p-value roughly indicates the probability of an uncorrelated system\n",
      "    producing datasets that have a Pearson correlation at least as extreme\n",
      "    as the one computed from these datasets.\n",
      "    \n",
      "    Parameters\n",
      "    ----------\n",
      "    x : (N,) array_like\n",
      "        Input array.\n",
      "    y : (N,) array_like\n",
      "        Input array.\n",
      "    \n",
      "    Returns\n",
      "    -------\n",
      "    r : float\n",
      "        Pearson's correlation coefficient.\n",
      "    p-value : float\n",
      "        Two-tailed p-value.\n",
      "    \n",
      "    Warns\n",
      "    -----\n",
      "    PearsonRConstantInputWarning\n",
      "        Raised if an input is a constant array.  The correlation coefficient\n",
      "        is not defined in this case, so ``np.nan`` is returned.\n",
      "    \n",
      "    PearsonRNearConstantInputWarning\n",
      "        Raised if an input is \"nearly\" constant.  The array ``x`` is considered\n",
      "        nearly constant if ``norm(x - mean(x)) < 1e-13 * abs(mean(x))``.\n",
      "        Numerical errors in the calculation ``x - mean(x)`` in this case might\n",
      "        result in an inaccurate calculation of r.\n",
      "    \n",
      "    See Also\n",
      "    --------\n",
      "    spearmanr : Spearman rank-order correlation coefficient.\n",
      "    kendalltau : Kendall's tau, a correlation measure for ordinal data.\n",
      "    \n",
      "    Notes\n",
      "    -----\n",
      "    The correlation coefficient is calculated as follows:\n",
      "    \n",
      "    .. math::\n",
      "    \n",
      "        r = \\frac{\\sum (x - m_x) (y - m_y)}\n",
      "                 {\\sqrt{\\sum (x - m_x)^2 \\sum (y - m_y)^2}}\n",
      "    \n",
      "    where :math:`m_x` is the mean of the vector :math:`x` and :math:`m_y` is\n",
      "    the mean of the vector :math:`y`.\n",
      "    \n",
      "    Under the assumption that :math:`x` and :math:`m_y` are drawn from\n",
      "    independent normal distributions (so the population correlation coefficient\n",
      "    is 0), the probability density function of the sample correlation\n",
      "    coefficient :math:`r` is ([1]_, [2]_):\n",
      "    \n",
      "    .. math::\n",
      "    \n",
      "        f(r) = \\frac{{(1-r^2)}^{n/2-2}}{\\mathrm{B}(\\frac{1}{2},\\frac{n}{2}-1)}\n",
      "    \n",
      "    where n is the number of samples, and B is the beta function.  This\n",
      "    is sometimes referred to as the exact distribution of r.  This is\n",
      "    the distribution that is used in `pearsonr` to compute the p-value.\n",
      "    The distribution is a beta distribution on the interval [-1, 1],\n",
      "    with equal shape parameters a = b = n/2 - 1.  In terms of SciPy's\n",
      "    implementation of the beta distribution, the distribution of r is::\n",
      "    \n",
      "        dist = scipy.stats.beta(n/2 - 1, n/2 - 1, loc=-1, scale=2)\n",
      "    \n",
      "    The p-value returned by `pearsonr` is a two-sided p-value.  For a\n",
      "    given sample with correlation coefficient r, the p-value is\n",
      "    the probability that abs(r') of a random sample x' and y' drawn from\n",
      "    the population with zero correlation would be greater than or equal\n",
      "    to abs(r).  In terms of the object ``dist`` shown above, the p-value\n",
      "    for a given r and length n can be computed as::\n",
      "    \n",
      "        p = 2*dist.cdf(-abs(r))\n",
      "    \n",
      "    When n is 2, the above continuous distribution is not well-defined.\n",
      "    One can interpret the limit of the beta distribution as the shape\n",
      "    parameters a and b approach a = b = 0 as a discrete distribution with\n",
      "    equal probability masses at r = 1 and r = -1.  More directly, one\n",
      "    can observe that, given the data x = [x1, x2] and y = [y1, y2], and\n",
      "    assuming x1 != x2 and y1 != y2, the only possible values for r are 1\n",
      "    and -1.  Because abs(r') for any sample x' and y' with length 2 will\n",
      "    be 1, the two-sided p-value for a sample of length 2 is always 1.\n",
      "    \n",
      "    References\n",
      "    ----------\n",
      "    .. [1] \"Pearson correlation coefficient\", Wikipedia,\n",
      "           https://en.wikipedia.org/wiki/Pearson_correlation_coefficient\n",
      "    .. [2] Student, \"Probable error of a correlation coefficient\",\n",
      "           Biometrika, Volume 6, Issue 2-3, 1 September 1908, pp. 302-310.\n",
      "    .. [3] C. J. Kowalski, \"On the Effects of Non-Normality on the Distribution\n",
      "           of the Sample Product-Moment Correlation Coefficient\"\n",
      "           Journal of the Royal Statistical Society. Series C (Applied\n",
      "           Statistics), Vol. 21, No. 1 (1972), pp. 1-12.\n",
      "    \n",
      "    Examples\n",
      "    --------\n",
      "    >>> from scipy import stats\n",
      "    >>> a = np.array([0, 0, 0, 1, 1, 1, 1])\n",
      "    >>> b = np.arange(7)\n",
      "    >>> stats.pearsonr(a, b)\n",
      "    (0.8660254037844386, 0.011724811003954649)\n",
      "    \n",
      "    >>> stats.pearsonr([1, 2, 3, 4, 5], [10, 9, 2.5, 6, 4])\n",
      "    (-0.7426106572325057, 0.1505558088534455)\n",
      "\n"
     ]
    }
   ],
   "source": [
    "help(pearsonr)"
   ]
  },
  {
   "cell_type": "code",
   "execution_count": 392,
   "metadata": {},
   "outputs": [
    {
     "data": {
      "text/plain": [
       "1.0"
      ]
     },
     "execution_count": 392,
     "metadata": {},
     "output_type": "execute_result"
    }
   ],
   "source": [
    "from pydoc import help\n",
    "from scipy import stats \n",
    "pearson_coefficent, p_value = stats.pearsonr(aws_df[\"src\"],aws_df[\"src\"])\n",
    "pearson_coefficent"
   ]
  },
  {
   "cell_type": "code",
   "execution_count": 393,
   "metadata": {},
   "outputs": [],
   "source": [
    "from reportlab.pdfgen import canvas\n",
    "my_canvas = canvas.Canvas(\"aws-honeypot-attack.pdf\")\n",
    "my_canvas.drawString(100, 750, \"Welcome to Reportlab!\")\n",
    "my_canvas.save()"
   ]
  }
 ],
 "metadata": {
  "celltoolbar": "Raw Cell Format",
  "kernelspec": {
   "display_name": "Python 3.10.6 64-bit",
   "language": "python",
   "name": "python3"
  },
  "language_info": {
   "codemirror_mode": {
    "name": "ipython",
    "version": 3
   },
   "file_extension": ".py",
   "mimetype": "text/x-python",
   "name": "python",
   "nbconvert_exporter": "python",
   "pygments_lexer": "ipython3",
   "version": "3.10.6"
  },
  "vscode": {
   "interpreter": {
    "hash": "916dbcbb3f70747c44a77c7bcd40155683ae19c65e1c03b4aa3499c5328201f1"
   }
  }
 },
 "nbformat": 4,
 "nbformat_minor": 4
}
